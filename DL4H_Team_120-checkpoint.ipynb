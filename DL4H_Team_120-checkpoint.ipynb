{
 "cells": [
  {
   "cell_type": "markdown",
   "metadata": {
    "id": "j01aH0PR4Sg-"
   },
   "source": [
    "# Before you use this template\n",
    "\n",
    "This template is just a recommended template for project Report. It only considers the general type of research in our paper pool. Feel free to edit it to better fit your project. You will iteratively update the same notebook submission for your draft and the final submission. Please check the project rubriks to get a sense of what is expected in the template.\n",
    "\n",
    "---\n",
    "\n",
    "# FAQ and Attentions\n",
    "* Copy and move this template to your Google Drive. Name your notebook by your team ID (upper-left corner). Don't eidt this original file.\n",
    "* This template covers most questions we want to ask about your reproduction experiment. You don't need to exactly follow the template, however, you should address the questions. Please feel free to customize your report accordingly.\n",
    "* any report must have run-able codes and necessary annotations (in text and code comments).\n",
    "* The notebook is like a demo and only uses small-size data (a subset of original data or processed data), the entire runtime of the notebook including data reading, data process, model training, printing, figure plotting, etc,\n",
    "must be within 8 min, otherwise, you may get penalty on the grade.\n",
    "  * If the raw dataset is too large to be loaded  you can select a subset of data and pre-process the data, then, upload the subset or processed data to Google Drive and load them in this notebook.\n",
    "  * If the whole training is too long to run, you can only set the number of training epoch to a small number, e.g., 3, just show that the training is runable.\n",
    "  * For results model validation, you can train the model outside this notebook in advance, then, load pretrained model and use it for validation (display the figures, print the metrics).\n",
    "* The post-process is important! For post-process of the results,please use plots/figures. The code to summarize results and plot figures may be tedious, however, it won't be waste of time since these figures can be used for presentation. While plotting in code, the figures should have titles or captions if necessary (e.g., title your figure with \"Figure 1. xxxx\")\n",
    "* There is not page limit to your notebook report, you can also use separate notebooks for the report, just make sure your grader can access and run/test them.\n",
    "* If you use outside resources, please refer them (in any formats). Include the links to the resources if necessary."
   ]
  },
  {
   "cell_type": "markdown",
   "metadata": {
    "id": "dlv6knX04FiY"
   },
   "source": [
    "# Mount Notebook to Google Drive\n",
    "Upload the data, pretrianed model, figures, etc to your Google Drive, then mount this notebook to Google Drive. After that, you can access the resources freely.\n",
    "\n",
    "Instruction: https://colab.research.google.com/notebooks/io.ipynb\n",
    "\n",
    "Example: https://colab.research.google.com/drive/1srw_HFWQ2SMgmWIawucXfusGzrj1_U0q\n",
    "\n",
    "Video: https://www.youtube.com/watch?v=zc8g8lGcwQU"
   ]
  },
  {
   "cell_type": "code",
   "execution_count": 1,
   "metadata": {
    "id": "sfk8Zrul_E8V"
   },
   "outputs": [],
   "source": [
    "# from google.colab import drive\n",
    "# drive.mount('/content/drive')"
   ]
  },
  {
   "cell_type": "markdown",
   "metadata": {
    "id": "MQ0sNuMePBXx"
   },
   "source": [
    "# Introduction\n",
    "This is an introduction to your report, you should edit this text/mardown section to compose. In this text/markdown, you should introduce:\n",
    "\n",
    "*   Background of the problem\n",
    "  1. what type of problem: disease/readmission/mortality prediction,  feature engineeing, data processing, etc\n",
    "  2. what is the importance/meaning of solving the problem\n",
    "  3. what is the difficulty of the problem\n",
    "  4. the state of the art methods and effectiveness.\n",
    "*   Paper explanation\n",
    "  1. what did the paper propose\n",
    "  2. what is the innovations of the method\n",
    "  3. how well the proposed method work (in its own metrics)\n",
    "  4. what is the contribution to the reasearch regime (referring the Background above, how important the paper is to the problem).\n"
   ]
  },
  {
   "cell_type": "markdown",
   "metadata": {},
   "source": [
    "## Background of the problem\n",
    "Graph-structured data are ubiquitous in various applications of healthcare domain, such as protein-protein interaction (PPI) prediction and drug-drug interaction (DDI) prediction. Graph Attention Networks (GAT) (Velickovic et al., 2018), as one of the most popular Graph Neural Networks (GNNs), has been widely adopted in these applications due to its ability to effectively model relationships between nodes in a graph. In this project, we are trying to explore the role of GAT in healthcare domains. \n",
    "\n",
    "[add more details]"
   ]
  },
  {
   "cell_type": "markdown",
   "metadata": {},
   "source": [
    "## Paper explanation"
   ]
  },
  {
   "cell_type": "code",
   "execution_count": 2,
   "metadata": {
    "id": "ABD4VhFZbehA"
   },
   "outputs": [],
   "source": [
    "# code comment is used as inline annotations for your coding"
   ]
  },
  {
   "cell_type": "markdown",
   "metadata": {
    "id": "uygL9tTPSVHB"
   },
   "source": [
    "# Scope of Reproducibility:\n",
    "\n",
    "List hypotheses from the paper you will test and the corresponding experiments you will run.\n",
    "\n",
    "\n",
    "1.   Hypothesis 1: attention mechanism greatly improves the performace of GAT for most of the time;\n",
    "2.   Hypothesis 2: multi-head benifits the feature extraction process;\n",
    "3.   Hypothesis 3: one of the drawbacks of GAT is that, the attention mechanism is static instead of dynamic (Brody et al., 2022).\n",
    "\n",
    "You can insert images in this notebook text, [see this link](https://stackoverflow.com/questions/50670920/how-to-insert-an-inline-image-in-google-colaboratory-from-google-drive) and example below:\n",
    "\n",
    "![sample_image.png](https://drive.google.com/uc?export=view&id=1g2efvsRJDxTxKz-OY3loMhihrEUdBxbc)\n"
   ]
  },
  {
   "cell_type": "markdown",
   "metadata": {
    "id": "LM4WUjz64C3B"
   },
   "source": [
    "\n",
    "You can also use code to display images, see the code below.\n",
    "\n",
    "The images must be saved in Google Drive first.\n"
   ]
  },
  {
   "cell_type": "markdown",
   "metadata": {
    "id": "xWAHJ_1CdtaA"
   },
   "source": [
    "# Methodology\n",
    "\n",
    "This methodology is the core of your project. It consists of run-able codes with necessary annotations to show the expeiment you executed for testing the hypotheses.\n",
    "\n",
    "The methodology at least contains two subsections **data** and **model** in your experiment."
   ]
  },
  {
   "cell_type": "markdown",
   "metadata": {
    "id": "2NbPHUTMbkD3"
   },
   "source": [
    "##  Data\n",
    "Data includes raw data (MIMIC III tables), descriptive statistics (our homework questions), and data processing (feature engineering).\n",
    "  * Source of the data: where the data is collected from; if data is synthetic or self-generated, explain how. If possible, please provide a link to the raw datasets.\n",
    "  * Statistics: include basic descriptive statistics of the dataset like size, cross validation split, label distribution, etc.\n",
    "  * Data process: how do you munipulate the data, e.g., change the class labels, split the dataset to train/valid/test, refining the dataset.\n",
    "  * Illustration: printing results, plotting figures for illustration.\n",
    "  * You can upload your raw dataset to Google Drive and mount this Colab to the same directory. If your raw dataset is too large, you can upload the processed dataset and have a code to load the processed dataset."
   ]
  },
  {
   "cell_type": "markdown",
   "metadata": {
    "id": "XzVUQS0CHry0"
   },
   "source": [
    "## Data 1: Drug-drug Interaction (DDI) Prediciton"
   ]
  },
  {
   "cell_type": "code",
   "execution_count": 1,
   "metadata": {},
   "outputs": [
    {
     "name": "stdout",
     "output_type": "stream",
     "text": [
      "Split: train\n",
      "Number of samples: 115185\n",
      "Number of drugs: 1671\n",
      "Number of interactions: 86\n",
      "**************************************************\n",
      "Split: val\n",
      "Number of samples: 38348\n",
      "Number of drugs: 1582\n",
      "Number of interactions: 86\n",
      "**************************************************\n",
      "Split: test\n",
      "Number of samples: 38337\n",
      "Number of drugs: 1597\n",
      "Number of interactions: 86\n",
      "**************************************************\n"
     ]
    }
   ],
   "source": [
    "import pandas as pd\n",
    "import os\n",
    "\n",
    "# dir and function to load raw data\n",
    "raw_data_dir = 'data/drug_interaction'\n",
    "\n",
    "def load_data(raw_data_dir):\n",
    "    # implement this function to load raw data to dataframe/numpy array/tensor\n",
    "    \n",
    "    df_ddi_train = pd.read_csv(os.path.join(raw_data_dir, 'ddi_training.csv'))\n",
    "    df_ddi_val = pd.read_csv(os.path.join(raw_data_dir, 'ddi_validation.csv'))\n",
    "    df_ddi_test = pd.read_csv(os.path.join(raw_data_dir, 'ddi_test.csv'))\n",
    "\n",
    "    return df_ddi_train, df_ddi_val, df_ddi_test\n",
    "\n",
    "\n",
    "df_ddi_train, df_ddi_val, df_ddi_test = load_data(raw_data_dir)\n",
    "\n",
    "# calculate statistics\n",
    "def calculate_stats(df_ddi, split):\n",
    "    # implement this function to calculate the statistics\n",
    "    # it is encouraged to print out the results\n",
    "\n",
    "    # statistics for the dataset\n",
    "    # (1) number of samples; (2) number of drugs [set for d1 and d2]; (3) number of drug interactions [type]\n",
    "    num_samples = df_ddi.shape[0]\n",
    "    num_drugs = len(set(df_ddi['d1'].values) | set(df_ddi['d2'].values))\n",
    "    num_interactions = len(set(df_ddi['type'].values))\n",
    "    \n",
    "    print(f'Split: {split}')\n",
    "    print(f'Number of samples: {num_samples}')\n",
    "    print(f'Number of drugs: {num_drugs}')\n",
    "    print(f'Number of interactions: {num_interactions}')\n",
    "    print('*' * 50)\n",
    "\n",
    "\n",
    "calculate_stats(df_ddi_train, 'train')\n",
    "calculate_stats(df_ddi_val, 'val')\n",
    "calculate_stats(df_ddi_test, 'test')\n",
    "\n"
   ]
  },
  {
   "cell_type": "code",
   "execution_count": 2,
   "metadata": {},
   "outputs": [],
   "source": [
    "train_tup_ddi = [(h, t, r) for h, t, r in zip(df_ddi_train['d1'], df_ddi_train['d2'], df_ddi_train['type'])]\n",
    "val_tup_ddi = [(h, t, r) for h, t, r in zip(df_ddi_val['d1'], df_ddi_val['d2'], df_ddi_val['type'])]\n",
    "test_tup_ddi = [(h, t, r) for h, t, r in zip(df_ddi_test['d1'], df_ddi_test['d2'], df_ddi_test['type'])]"
   ]
  },
  {
   "cell_type": "markdown",
   "metadata": {},
   "source": [
    "## Data 2: Protein-protein Interaction (PPI) Prediction"
   ]
  },
  {
   "cell_type": "code",
   "execution_count": 3,
   "metadata": {},
   "outputs": [
    {
     "name": "stdout",
     "output_type": "stream",
     "text": [
      "Split: train\n",
      "Number of graphs: 20\n",
      "Number of nodes: 44906\n",
      "Number of edges: 1226368\n",
      "Number of features: 50\n",
      "Number of classes: 121\n",
      "**************************************************\n",
      "Split: val\n",
      "Number of graphs: 2\n",
      "Number of nodes: 6514\n",
      "Number of edges: 198920\n",
      "Number of features: 50\n",
      "Number of classes: 121\n",
      "**************************************************\n",
      "Split: test\n",
      "Number of graphs: 2\n",
      "Number of nodes: 5524\n",
      "Number of edges: 161976\n",
      "Number of features: 50\n",
      "Number of classes: 121\n",
      "**************************************************\n"
     ]
    }
   ],
   "source": [
    "from torch_geometric.datasets import PPI\n",
    "from torch_geometric.loader import DataLoader\n",
    "\n",
    "def load_data(data_dir):\n",
    "    path = data_dir\n",
    "    train_dataset = PPI(path, split='train')\n",
    "    val_dataset = PPI(path, split='val')\n",
    "    test_dataset = PPI(path, split='test')\n",
    "\n",
    "    return train_dataset, val_dataset, test_dataset\n",
    "\n",
    "train_dataset_ppi, val_dataset_ppi, test_dataset_ppi = load_data('data/ppi')\n",
    "\n",
    "\n",
    "# outut the statistics\n",
    "def calculate_stats(dataset, split):\n",
    "    # Initialize counters\n",
    "    num_graphs = len(dataset)\n",
    "    num_nodes = 0\n",
    "    num_edges = 0\n",
    "\n",
    "    # Loop through the dataset to accumulate statistics\n",
    "    for data in dataset:\n",
    "        num_nodes += data.num_nodes\n",
    "        num_edges += data.num_edges\n",
    "    \n",
    "    # Since features and classes are consistent across the dataset, we can take them from the first graph\n",
    "    num_features = dataset[0].num_features\n",
    "    num_classes = dataset[0].y.size(1)  # Assuming the labels are one-hot encoded\n",
    "\n",
    "    print(f'Split: {split}')\n",
    "    print(f'Number of graphs: {num_graphs}')\n",
    "    print(f'Number of nodes: {num_nodes}')\n",
    "    print(f'Number of edges: {num_edges}')\n",
    "    print(f'Number of features: {num_features}')\n",
    "    print(f'Number of classes: {num_classes}')\n",
    "    print('*' * 50)\n",
    "\n",
    "calculate_stats(train_dataset_ppi, 'train')\n",
    "calculate_stats(val_dataset_ppi, 'val')\n",
    "calculate_stats(test_dataset_ppi, 'test')"
   ]
  },
  {
   "cell_type": "markdown",
   "metadata": {},
   "source": [
    "## Data 3: PubMed Citation Network"
   ]
  },
  {
   "cell_type": "code",
   "execution_count": 4,
   "metadata": {},
   "outputs": [
    {
     "name": "stdout",
     "output_type": "stream",
     "text": [
      "Split: train\n",
      "Statistics for the citation network:\n",
      "Number of graphs: 1\n",
      "Number of nodes: 19717\n",
      "Number of edges: 37676\n",
      "Number of features: 500\n",
      "Number of classes: 3\n",
      "**************************************************\n",
      "Split: val\n",
      "Statistics for the citation network:\n",
      "Number of graphs: 1\n",
      "Number of nodes: 19717\n",
      "Number of edges: 37676\n",
      "Number of features: 500\n",
      "Number of classes: 3\n",
      "**************************************************\n",
      "Split: test\n",
      "Statistics for the citation network:\n",
      "Number of graphs: 1\n",
      "Number of nodes: 19717\n",
      "Number of edges: 39892\n",
      "Number of features: 500\n",
      "Number of classes: 3\n",
      "**************************************************\n"
     ]
    }
   ],
   "source": [
    "from torch_geometric.datasets import CitationFull\n",
    "import torch_geometric.transforms as T\n",
    "import torch\n",
    "\n",
    "device = 'cuda' if torch.cuda.is_available() else 'cpu'\n",
    "\n",
    "transform = T.Compose([\n",
    "    T.NormalizeFeatures(),\n",
    "    T.ToDevice(device),\n",
    "    T.RandomLinkSplit(num_val=0.05, num_test=0.1, is_undirected=True,\n",
    "                      add_negative_train_samples=False),\n",
    "])\n",
    "\n",
    "def load_pubmed_data(data_dir):\n",
    "    dataset = CitationFull(root=data_dir, name='PubMed', transform=transform)\n",
    "    train_data, val_data, test_data = dataset[0]\n",
    "\n",
    "    return train_data, val_data, test_data\n",
    "\n",
    "train_data_pubmed, val_data_pubmed, test_data_pubmed = load_pubmed_data('data/pubmed')\n",
    "\n",
    "def calculate_stats_citation(dataset, split):\n",
    "    # For citation networks processed by RandomLinkSplit, we typically have one graph represented by edge splits.\n",
    "    num_nodes = dataset.num_nodes  # Total number of nodes in the dataset\n",
    "    num_edges = dataset['edge_index'].size(1) // 2  # Divided by 2 for undirected graphs\n",
    "    num_features = dataset.num_features  # Number of features per node\n",
    "    num_classes = dataset.y.unique().size(0)  # Assuming 'y' holds class labels for nodes\n",
    "    # Print the statistics\n",
    "    print(f'Split: {split}')\n",
    "    print(\"Statistics for the citation network:\")\n",
    "    print(f\"Number of graphs: 1\")\n",
    "    print(f\"Number of nodes: {num_nodes}\")\n",
    "    print(f\"Number of edges: {num_edges}\")\n",
    "    print(f\"Number of features: {num_features}\")\n",
    "    print(f\"Number of classes: {num_classes}\")\n",
    "    print('*' * 50)\n",
    "\n",
    "\n",
    "calculate_stats_citation(train_data_pubmed, 'train')\n",
    "calculate_stats_citation(val_data_pubmed, 'val')\n",
    "calculate_stats_citation(test_data_pubmed, 'test')\n"
   ]
  },
  {
   "cell_type": "markdown",
   "metadata": {
    "id": "3muyDPFPbozY"
   },
   "source": [
    "##   Model\n",
    "The model includes the model definitation which usually is a class, model training, and other necessary parts.\n",
    "  * Model architecture: layer number/size/type, activation function, etc\n",
    "  * Training objectives: loss function, optimizer, weight of each loss term, etc\n",
    "  * Others: whether the model is pretrained, Monte Carlo simulation for uncertainty analysis, etc\n",
    "  * The code of model should have classes of the model, functions of model training, model validation, etc.\n",
    "  * If your model training is done outside of this notebook, please upload the trained model here and develop a function to load and test it."
   ]
  },
  {
   "cell_type": "code",
   "execution_count": 101,
   "metadata": {},
   "outputs": [],
   "source": [
    "from tqdm.notebook import tqdm\n",
    "\n",
    "def save_checkpoint(state, filename):\n",
    "    if not os.path.exists('./ckpt'):\n",
    "        os.makedirs('./ckpt')\n",
    "    torch.save(state, f'./ckpt/{filename}.pth')\n",
    "\n",
    "def load_checkpoint(model, optimizer, scheduler, filename):\n",
    "    device = torch.device('cuda' if torch.cuda.is_available() else 'cpu')\n",
    "    checkpoint = torch.load(f'./ckpt/{filename}.pth', map_location=device)\n",
    "    model.load_state_dict(checkpoint['model_state_dict'])\n",
    "    optimizer.load_state_dict(checkpoint['optimizer_state_dict'])\n",
    "    if 'scheduler_state_dict' in checkpoint and scheduler:\n",
    "        scheduler.load_state_dict(checkpoint['scheduler_state_dict'])\n",
    "    epoch = checkpoint['epoch']\n",
    "    return epoch\n",
    "\n",
    "def load_checkpoint_metrics(model, optimizer, scheduler, filename):\n",
    "    device = torch.device('cuda' if torch.cuda.is_available() else 'cpu')\n",
    "    checkpoint = torch.load(f'./ckpt/{filename}', map_location=device)\n",
    "    epoch = checkpoint['epoch']\n",
    "    metrics = checkpoint['metrics']\n",
    "    return epoch, metrics\n",
    "\n",
    "def loss_shrinkage(prefix, checkpoint_dir='ckpt'):\n",
    "    epoch_idx = []\n",
    "    train_loss = []\n",
    "    val_loss = []\n",
    "    checkpoint_dir='ckpt'\n",
    "    pattern = re.compile(prefix + r\"_e(\\d{3}).pth.pth\")\n",
    "    checkpoint_files = [f for f in os.listdir(checkpoint_dir) if os.path.isfile(os.path.join(checkpoint_dir, f)) and pattern.match(f)]\n",
    "    epochs = [(int(pattern.search(f).group(1)), f) for f in checkpoint_files]\n",
    "    for epoch in epochs:\n",
    "        filename = epoch[1]\n",
    "        _, metrics = load_checkpoint_metrics(model, optimizer, scheduler, filename)\n",
    "        epoch_idx.append(epoch[0])\n",
    "        train_loss.append((metrics['train_loss']))\n",
    "        val_loss.append((metrics.get('val_loss',0)))\n",
    "    return epoch_idx, train_loss, val_loss\n",
    "\n",
    "import re\n",
    "\n",
    "def find_last_checkpoint_by_epoch(prefix, checkpoint_dir='ckpt'):\n",
    "    # prefix = task name, ddi, ppi, PubMed-[model]\n",
    "    pattern = re.compile(prefix + r\"_e(\\d{3}).pth.pth\")\n",
    "    checkpoint_files = [f for f in os.listdir(checkpoint_dir) if os.path.isfile(os.path.join(checkpoint_dir, f)) and pattern.match(f)]\n",
    "    epochs = [(int(pattern.search(f).group(1)), f) for f in checkpoint_files]\n",
    "    if epochs:\n",
    "        max_epoch_file = max(epochs, key=lambda x: x[0])[1]\n",
    "        return os.path.join(checkpoint_dir, max_epoch_file)\n",
    "    else:\n",
    "        return None\n"
   ]
  },
  {
   "cell_type": "markdown",
   "metadata": {},
   "source": [
    "## Task 1: Training GAT for Drug-drug Interaction\n",
    "The input and output for DDI prediction is\n",
    "* Input: Concat[Drug A, Drug B, relation]\n",
    "* Output: Predicted Probability"
   ]
  },
  {
   "cell_type": "code",
   "execution_count": 12,
   "metadata": {},
   "outputs": [],
   "source": [
    "from utils_ddi import DrugDataset, DrugDataLoader, TOTAL_ATOM_FEATS\n",
    "import numpy as np\n",
    "import torch\n",
    "from sklearn import metrics\n",
    "from datetime import datetime\n",
    "import time\n",
    "import torch.nn as nn\n",
    "import torch.optim as optim\n",
    "import torch.nn.functional as F\n",
    "\n",
    "# Hyperparameters\n",
    "n_atom_feats = TOTAL_ATOM_FEATS\n",
    "n_atom_hid = 64\n",
    "rel_total = 86\n",
    "lr = 1e-2\n",
    "weight_decay = 5e-4\n",
    "n_epochs = 300\n",
    "neg_samples = 1\n",
    "batch_size = 1024\n",
    "data_size_ratio = 1\n",
    "kge_dim = 64\n",
    "\n",
    "train_data_ddi = DrugDataset(train_tup_ddi, ratio=1, neg_ent=1)\n",
    "val_data_ddi = DrugDataset(val_tup_ddi, ratio=1, disjoint_split=False)\n",
    "test_data_ddi = DrugDataset(test_tup_ddi, disjoint_split=False)\n",
    "\n",
    "train_data_loader_ddi = DrugDataLoader(train_data_ddi, batch_size=batch_size, shuffle=True)\n",
    "val_data_loader_ddi = DrugDataLoader(val_data_ddi, batch_size=batch_size *3)\n",
    "test_data_loader_ddi = DrugDataLoader(test_data_ddi, batch_size=batch_size *3)"
   ]
  },
  {
   "cell_type": "code",
   "execution_count": 25,
   "metadata": {},
   "outputs": [],
   "source": [
    "def do_compute(model, batch, device, training=True):\n",
    "    '''\n",
    "        *batch: (pos_tri, neg_tri)\n",
    "        *pos/neg_tri: (batch_h, batch_t, batch_r)\n",
    "    '''\n",
    "    probas_pred, ground_truth = [], []\n",
    "    pos_tri, neg_tri = batch\n",
    "    \n",
    "    pos_tri = [tensor.to(device=device) for tensor in pos_tri]\n",
    "    p_score = model(pos_tri)\n",
    "    probas_pred.append(torch.sigmoid(p_score.detach()).cpu())\n",
    "    ground_truth.append(np.ones(len(p_score)))\n",
    "\n",
    "    neg_tri = [tensor.to(device=device) for tensor in neg_tri]\n",
    "    n_score = model(neg_tri)\n",
    "    probas_pred.append(torch.sigmoid(n_score.detach()).cpu())\n",
    "    ground_truth.append(np.zeros(len(n_score)))\n",
    "\n",
    "    probas_pred = np.concatenate(probas_pred)\n",
    "    ground_truth = np.concatenate(ground_truth)\n",
    "\n",
    "    return p_score, n_score, probas_pred, ground_truth\n",
    "\n",
    "def do_compute_metrics(probas_pred, target):\n",
    "\n",
    "    pred = (probas_pred >= 0.5).astype(np.int32)\n",
    "\n",
    "    acc = metrics.accuracy_score(target, pred)\n",
    "    auc_roc = metrics.roc_auc_score(target, probas_pred)\n",
    "    f1_score = metrics.f1_score(target, pred)\n",
    "\n",
    "    p, r, t = metrics.precision_recall_curve(target, probas_pred)\n",
    "    auc_prc = metrics.auc(r, p)\n",
    "\n",
    "    return acc, auc_roc, auc_prc\n",
    "\n",
    "def do_compute_metrics_test(probas_pred, target):\n",
    "\n",
    "    pred = (probas_pred >= 0.5).astype(np.int32)\n",
    "\n",
    "    acc = metrics.accuracy_score(target, pred)\n",
    "    auc_roc = metrics.roc_auc_score(target, probas_pred)\n",
    "    f1_score = metrics.f1_score(target, pred)\n",
    "\n",
    "    p, r, t = metrics.precision_recall_curve(target, probas_pred)\n",
    "    auc_prc = metrics.auc(r, p)\n",
    "\n",
    "    return acc, auc_roc, auc_prc, p,r,f1_score\n",
    "\n",
    "def train(model, train_data_loader, val_data_loader, loss_fn,  optimizer, n_epochs, device, \n",
    "          scheduler=None, starting_epoch=1):\n",
    "    print('Starting training at', datetime.today())\n",
    "    pbar = tqdm(range(starting_epoch, n_epochs+1))\n",
    "    for i in pbar:\n",
    "        start = time.time()\n",
    "        train_loss = 0\n",
    "        train_loss_pos = 0\n",
    "        train_loss_neg = 0\n",
    "        val_loss = 0\n",
    "        val_loss_pos = 0\n",
    "        val_loss_neg = 0\n",
    "        train_probas_pred = []\n",
    "        train_ground_truth = []\n",
    "        val_probas_pred = []\n",
    "        val_ground_truth = []\n",
    "\n",
    "        for batch in train_data_loader:\n",
    "            model.train()\n",
    "            p_score, n_score, probas_pred, ground_truth = do_compute(model, batch, device)\n",
    "            train_probas_pred.append(probas_pred)\n",
    "            train_ground_truth.append(ground_truth)\n",
    "            loss, loss_p, loss_n = loss_fn(p_score, n_score)\n",
    "            \n",
    "            optimizer.zero_grad()\n",
    "            loss.backward()\n",
    "            optimizer.step()\n",
    "\n",
    "            train_loss += loss.item() * len(p_score)\n",
    "        train_loss /= len(train_data_ddi)\n",
    "\n",
    "        with torch.no_grad():\n",
    "            train_probas_pred = np.concatenate(train_probas_pred)\n",
    "            train_ground_truth = np.concatenate(train_ground_truth)\n",
    "\n",
    "            train_acc, train_auc_roc, train_auc_prc = do_compute_metrics(train_probas_pred, train_ground_truth)\n",
    "\n",
    "            for batch in val_data_loader:\n",
    "                model.eval()\n",
    "                p_score, n_score, probas_pred, ground_truth = do_compute(model, batch, device)\n",
    "                val_probas_pred.append(probas_pred)\n",
    "                val_ground_truth.append(ground_truth)\n",
    "                loss, loss_p, loss_n = loss_fn(p_score, n_score)\n",
    "                val_loss += loss.item() * len(p_score)            \n",
    "\n",
    "            val_loss /= len(val_data_ddi)\n",
    "            val_probas_pred = np.concatenate(val_probas_pred)\n",
    "            val_ground_truth = np.concatenate(val_ground_truth)\n",
    "            val_acc, val_auc_roc, val_auc_prc = do_compute_metrics(val_probas_pred, val_ground_truth)\n",
    "               \n",
    "        if scheduler:\n",
    "            # print('scheduling')\n",
    "            scheduler.step()\n",
    "\n",
    "        print(f'tr_loss: {train_loss:.4f}, val_loss: {val_loss:.4f},'\n",
    "                           f' tr_acc: {train_acc:.4f}, val_acc: {val_acc:.4f},'\n",
    "                           f' tr_roc: {train_auc_roc:.4f}, val_roc: {val_auc_roc:.4f},'\n",
    "                           f' tr_aupr: {train_auc_prc:.4f}, val_aupr: {val_auc_prc:.4f}' )\n",
    "        #pbar.set_description(f'tr_loss: {train_loss:.4f}, val_loss: {val_loss:.4f},'\n",
    "                   #f' tr_acc: {train_acc:.4f}, val_acc: {val_acc:.4f},'\n",
    "                   #f' tr_roc: {train_auc_roc:.4f}, val_roc: {val_auc_roc:.4f},'\n",
    "                   #f' tr_aupr: {train_auc_prc:.4f}, val_aupr: {val_auc_prc:.4f}' )\n",
    "\n",
    "        if i % 10 == 0 or i == n_epochs:  \n",
    "            save_checkpoint({\n",
    "                'epoch': i,\n",
    "                'model_state_dict': model.state_dict(),\n",
    "                'optimizer_state_dict': optimizer.state_dict(),\n",
    "                'scheduler_state_dict': scheduler.state_dict() if scheduler else None, \n",
    "                'metrics': {'train_loss' : train_loss,\n",
    "                           'val_loss' : val_loss,\n",
    "                           'train_acc' : train_acc,\n",
    "                           'val_acc' : val_acc,\n",
    "                           'train_auc_roc' : train_auc_roc,\n",
    "                           'val_auc_roc' : val_auc_roc,\n",
    "                           'train_auprc' : train_auc_prc,\n",
    "                           'val_auprc' : val_auc_prc},\n",
    "            }, filename=f\"ddi_e{str(i).zfill(3)}.pth\")\n",
    "\n",
    "def test(model, val_data_loader, loss_fn,  device):\n",
    "    start = time.time()\n",
    "    val_loss = 0\n",
    "    val_loss_pos = 0\n",
    "    val_loss_neg = 0\n",
    "    val_probas_pred = []\n",
    "    val_ground_truth = []\n",
    "\n",
    "    with torch.no_grad():\n",
    "        for batch in val_data_loader:\n",
    "            model.eval()\n",
    "            p_score, n_score, probas_pred, ground_truth = do_compute(model, batch, device)\n",
    "            val_probas_pred.append(probas_pred)\n",
    "            val_ground_truth.append(ground_truth)\n",
    "            loss, loss_p, loss_n = loss_fn(p_score, n_score)\n",
    "            val_loss += loss.item() * len(p_score)            \n",
    "\n",
    "        val_loss /= len(val_data_ddi)\n",
    "        val_probas_pred = np.concatenate(val_probas_pred)\n",
    "        val_ground_truth = np.concatenate(val_ground_truth)\n",
    "        val_acc, val_auc_roc, val_auc_prc, val_p,val_r,val_f1_score = do_compute_metrics_test(val_probas_pred, val_ground_truth)\n",
    "\n",
    "    print(f'val_loss: {val_loss:.4f},'\n",
    "                       f' val_acc: {val_acc:.4f},'\n",
    "                       f' val_roc: {val_auc_roc:.4f},'\n",
    "                       f' val_aupr: {val_auc_prc:.4f}')\n",
    "    \n",
    "    return  val_loss, val_acc, val_auc_roc, val_auc_prc, val_p,val_r,val_f1_score\n",
    "\n",
    "            \n",
    "class SigmoidLoss(nn.Module):\n",
    "    def __init__(self, adv_temperature=None):\n",
    "        super().__init__()\n",
    "        self.adv_temperature = adv_temperature\n",
    "    \n",
    "    def forward(self, p_scores, n_scores):\n",
    "        if self.adv_temperature:\n",
    "            weights= F.softmax(self.adv_temperature * n_scores, dim=-1).detach()\n",
    "            n_scores = weights * n_scores\n",
    "        p_loss = - F.logsigmoid(p_scores).mean()\n",
    "        n_loss = - F.logsigmoid(-n_scores).mean()\n",
    "        \n",
    "        return (p_loss + n_loss) / 2, p_loss, n_loss "
   ]
  },
  {
   "cell_type": "code",
   "execution_count": null,
   "metadata": {},
   "outputs": [],
   "source": [
    "from torch_geometric.nn import GATConv, global_mean_pool, LayerNorm\n",
    "import torch.nn.functional as F\n",
    "\n",
    "\n",
    "class DDIGAT(torch.nn.Module):\n",
    "    def __init__(self):\n",
    "        super().__init__()\n",
    "        self.num_iterations = 86\n",
    "        self.num_features = 55\n",
    "        self.num_heads = 2\n",
    "        self.initial_norm = LayerNorm(self.num_features)\n",
    "        self.convA = GATConv(self.num_features, 256, heads=self.num_heads)\n",
    "        self.convB = GATConv(self.num_features, 256, heads=self.num_heads)\n",
    "        self.emb = torch.nn.Embedding(self.num_iterations, 256)\n",
    "        self.lin = torch.nn.Linear((2 * self.num_heads + 1)* 256, 1)\n",
    "\n",
    "    def forward(self, tri):\n",
    "        # (pos_h_samples, pos_t_samples, pos_rels)\n",
    "        head, tail, rel = tri\n",
    "        head.x = self.initial_norm(head.x, head.batch)\n",
    "        tail.x = self.initial_norm(tail.x, tail.batch)\n",
    "        head = F.elu(self.convA(head.x, head.edge_index))\n",
    "        tail = F.elu(self.convB(tail.x, tail.edge_index))\n",
    "        head_emb = global_mean_pool(head, tri[0].batch)\n",
    "        tail_emb = global_mean_pool(tail, tri[1].batch)\n",
    "        rel = self.emb(rel)\n",
    "        out = self.lin(torch.cat([head_emb, tail_emb, rel],dim=-1))\n",
    "        return out\n",
    "\n",
    "model = DDIGAT()\n",
    "loss_func = SigmoidLoss()\n",
    "optimizer = optim.Adam(model.parameters(), lr=lr, weight_decay=weight_decay)\n",
    "scheduler = optim.lr_scheduler.LambdaLR(optimizer, lambda epoch: 0.96 ** (epoch))\n",
    "\n",
    "device = 'cuda' if torch.cuda.is_available() else 'cpu'\n",
    "model.to(device)\n",
    "\n",
    "last_checkpoint = find_last_checkpoint_by_epoch('ckpt')\n",
    "\n",
    "if last_checkpoint:\n",
    "    last_epoch, last_loss = load_checkpoint(model, optimizer, scheduler, last_checkpoint)\n",
    "    print(f\"Resuming training from epoch {last_epoch + 1}\")\n",
    "    train(model, train_data_loader_ddi, val_data_loader_ddi, SigmoidLoss(), optimizer, n_epochs, device, scheduler, starting_epoch=last_epoch + 1)\n",
    "else:\n",
    "    print(\"No checkpoint found, starting training from scratch.\")\n",
    "    train(model, train_data_loader_ddi, val_data_loader_ddi, loss_func, optimizer, n_epochs, device, scheduler)"
   ]
  },
  {
   "cell_type": "code",
   "execution_count": 26,
   "metadata": {},
   "outputs": [
    {
     "name": "stdout",
     "output_type": "stream",
     "text": [
      "val_loss: 0.6690, val_acc: 0.5846, val_roc: 0.6183, val_aupr: 0.5895\n"
     ]
    }
   ],
   "source": [
    "last_epoch = load_checkpoint(model, optimizer, scheduler, 'ddi_e300.pth')\n",
    "test_loss, test_acc_ddi, test_auc_roc_ddi, test_auc_prc_ddi, test_p_ddi,test_r_ddi,test_f1_score_ddi = test(model, test_data_loader_ddi, SigmoidLoss(),device)"
   ]
  },
  {
   "cell_type": "code",
   "execution_count": 120,
   "metadata": {},
   "outputs": [
    {
     "data": {
      "text/plain": [
       "0.6082239633943837"
      ]
     },
     "execution_count": 120,
     "metadata": {},
     "output_type": "execute_result"
    }
   ],
   "source": [
    "test_f1_score_ddi"
   ]
  },
  {
   "cell_type": "code",
   "execution_count": 84,
   "metadata": {},
   "outputs": [],
   "source": [
    "epoch_ddi, train_loss_ddi, val_loss_ddi = loss_shrinkage('ddi', checkpoint_dir='ckpt')"
   ]
  },
  {
   "cell_type": "markdown",
   "metadata": {},
   "source": [
    "## Task 2: Training GAT for Protein-protein Interaction"
   ]
  },
  {
   "cell_type": "code",
   "execution_count": 108,
   "metadata": {},
   "outputs": [],
   "source": [
    "from torch_geometric.nn import GATConv\n",
    "import torch.nn.functional as F\n",
    "\n",
    "train_loader_ppi = DataLoader(train_dataset_ppi, batch_size=1, shuffle=True)\n",
    "val_loader_ppi = DataLoader(val_dataset_ppi, batch_size=2, shuffle=False)\n",
    "test_loader_ppi = DataLoader(test_dataset_ppi, batch_size=2, shuffle=False)\n",
    "\n",
    "class PPINet(torch.nn.Module):\n",
    "    def __init__(self):\n",
    "        super().__init__()\n",
    "        self.conv1 = GATConv(train_dataset_ppi.num_features, 256, heads=4)\n",
    "        self.lin1 = torch.nn.Linear(train_dataset_ppi.num_features, 4 * 256)\n",
    "        self.conv2 = GATConv(4 * 256, 256, heads=4)\n",
    "        self.lin2 = torch.nn.Linear(4 * 256, 4 * 256)\n",
    "        self.conv3 = GATConv(4 * 256, train_dataset_ppi.num_classes, heads=6,\n",
    "                             concat=False)\n",
    "        self.lin3 = torch.nn.Linear(4 * 256, train_dataset_ppi.num_classes)\n",
    "\n",
    "    def forward(self, x, edge_index):\n",
    "        x = F.elu(self.conv1(x, edge_index) + self.lin1(x))\n",
    "        x = F.elu(self.conv2(x, edge_index) + self.lin2(x))\n",
    "        x = self.conv3(x, edge_index) + self.lin3(x)\n",
    "        return x"
   ]
  },
  {
   "cell_type": "code",
   "execution_count": 149,
   "metadata": {},
   "outputs": [],
   "source": [
    "device = torch.device('cuda' if torch.cuda.is_available() else 'cpu')\n",
    "model = PPINet().to(device)\n",
    "loss_op = torch.nn.BCEWithLogitsLoss()\n",
    "optimizer = torch.optim.Adam(model.parameters(), lr=0.005)\n",
    "\n",
    "from sklearn.metrics import f1_score\n",
    "\n",
    "def do_compute_metrics_t2(pred, target):\n",
    "    acc = metrics.accuracy_score(target, pred)\n",
    "    #auc_roc = metrics.roc_auc_score(target, probas_pred)\n",
    "    auc_roc = 0\n",
    "    f1_score = metrics.f1_score(target, pred, average='micro') if pred.sum() > 0 else 0\n",
    "    p  = metrics.precision_score(target, pred, average='micro') if pred.sum() > 0 else 0\n",
    "    r =  metrics.recall_score(target, pred, average='micro') if pred.sum() > 0 else 0\n",
    "    #p, r, t = metrics.precision_recall_curve(target, probas_pred)\n",
    "    #auc_prc = metrics.auc(r, p)\n",
    "    auc_prc = 0\n",
    "\n",
    "    return acc, auc_roc, auc_prc, p,r,f1_score\n",
    "\n",
    "def train():\n",
    "    model.train()\n",
    "\n",
    "    total_loss = 0\n",
    "    for data in train_loader_ppi:\n",
    "        data = data.to(device)\n",
    "        optimizer.zero_grad()\n",
    "        loss = loss_op(model(data.x, data.edge_index), data.y)\n",
    "        total_loss += loss.item() * data.num_graphs\n",
    "        loss.backward()\n",
    "        optimizer.step()\n",
    "\n",
    "    return total_loss / len(train_loader_ppi.dataset)\n",
    "\n",
    "\n",
    "@torch.no_grad()\n",
    "def test(loader):\n",
    "    model.eval()\n",
    "\n",
    "    ys, preds = [], []\n",
    "    for data in loader:\n",
    "        ys.append(data.y)\n",
    "        out = model(data.x.to(device), data.edge_index.to(device))\n",
    "        preds.append((out > 0).float().cpu())\n",
    "\n",
    "    y, pred = torch.cat(ys, dim=0).numpy(), torch.cat(preds, dim=0).numpy()\n",
    "    #return f1_score(y, pred, average='micro') if pred.sum() > 0 else 0\n",
    "    return do_compute_metrics_t2(y, pred)\n",
    "\n"
   ]
  },
  {
   "cell_type": "code",
   "execution_count": 151,
   "metadata": {},
   "outputs": [
    {
     "data": {
      "text/plain": [
       "(0.36766835626357713,\n",
       " 0,\n",
       " 0,\n",
       " 0.9640822405245482,\n",
       " 0.9514107742613225,\n",
       " 0.9577045949307074)"
      ]
     },
     "execution_count": 151,
     "metadata": {},
     "output_type": "execute_result"
    }
   ],
   "source": [
    "test(test_loader_ppi)"
   ]
  },
  {
   "cell_type": "code",
   "execution_count": 123,
   "metadata": {},
   "outputs": [],
   "source": [
    "epoch_ppi, train_loss_ppi, val_loss_ppi = loss_shrinkage('ppi', checkpoint_dir='ckpt')"
   ]
  },
  {
   "cell_type": "code",
   "execution_count": 150,
   "metadata": {},
   "outputs": [],
   "source": [
    "last_epoch = load_checkpoint(model, optimizer, None, 'ppi_e100.pth')"
   ]
  },
  {
   "cell_type": "code",
   "execution_count": null,
   "metadata": {},
   "outputs": [],
   "source": [
    "acc, auc_roc, auc_prc, p,r,f1_score"
   ]
  },
  {
   "cell_type": "code",
   "execution_count": 147,
   "metadata": {},
   "outputs": [
    {
     "ename": "TypeError",
     "evalue": "cannot unpack non-iterable numpy.float64 object",
     "output_type": "error",
     "traceback": [
      "\u001b[0;31m---------------------------------------------------------------------------\u001b[0m",
      "\u001b[0;31mTypeError\u001b[0m                                 Traceback (most recent call last)",
      "Cell \u001b[0;32mIn[147], line 1\u001b[0m\n\u001b[0;32m----> 1\u001b[0m test_acc_ppi, test_auc_roc_ppi, test_auc_prc_ppi, test_p_ppi,test_r_ppi,test_f1_score_ppi \u001b[38;5;241m=\u001b[39m test(test_loader_ppi)\n",
      "\u001b[0;31mTypeError\u001b[0m: cannot unpack non-iterable numpy.float64 object"
     ]
    }
   ],
   "source": [
    "test_acc_ppi, test_auc_roc_ppi, test_auc_prc_ppi, test_p_ppi,test_r_ppi,test_f1_score_ppi = test(test_loader_ppi)"
   ]
  },
  {
   "cell_type": "code",
   "execution_count": 140,
   "metadata": {},
   "outputs": [
    {
     "data": {
      "text/plain": [
       "0.3734279727408302"
      ]
     },
     "execution_count": 140,
     "metadata": {},
     "output_type": "execute_result"
    }
   ],
   "source": [
    "test_f1_score_ppi"
   ]
  },
  {
   "cell_type": "code",
   "execution_count": 14,
   "metadata": {},
   "outputs": [
    {
     "data": {
      "application/vnd.jupyter.widget-view+json": {
       "model_id": "57b0a0780389414985af163ea9a16ee2",
       "version_major": 2,
       "version_minor": 0
      },
      "text/plain": [
       "  0%|          | 0/100 [00:00<?, ?it/s]"
      ]
     },
     "metadata": {},
     "output_type": "display_data"
    },
    {
     "name": "stdout",
     "output_type": "stream",
     "text": [
      "Median time per epoch: 1.8779s\n"
     ]
    }
   ],
   "source": [
    "import time\n",
    "\n",
    "times = []\n",
    "pbar = tqdm(range(1, 101))\n",
    "for epoch in pbar:\n",
    "    start = time.time()\n",
    "    loss = train()\n",
    "    val_f1 = test(val_loader_ppi)\n",
    "    test_f1 = test(test_loader_ppi)\n",
    "    if epoch % 10 == 0 or epoch == 100:  \n",
    "        save_checkpoint({\n",
    "            'epoch': epoch,\n",
    "            'model_state_dict': model.state_dict(),\n",
    "            'optimizer_state_dict': optimizer.state_dict(),\n",
    "            'metrics': {'train_loss' : loss,\n",
    "                       'val_f1' : val_f1,\n",
    "                       'test_f1' : test_f1},\n",
    "        }, filename=f\"ppi_e{str(epoch).zfill(3)}.pth\")\n",
    "\n",
    "    pbar.set_description(f'tr_loss: {loss:.4f}, val_f1: {val_f1:.4f}, test_f1: {test_f1:.4f}')\n",
    "    times.append(time.time() - start)\n",
    "print(f\"Median time per epoch: {torch.tensor(times).median():.4f}s\")"
   ]
  },
  {
   "cell_type": "markdown",
   "metadata": {},
   "source": [
    "## Task 3: Training GAT for Link Prediction for PubMed Citation Network"
   ]
  },
  {
   "cell_type": "code",
   "execution_count": 154,
   "metadata": {},
   "outputs": [],
   "source": [
    "from torch_geometric.utils import negative_sampling\n",
    "from torch_geometric.nn import GATv2Conv, GCNConv\n",
    "\n",
    "class GCNNet(torch.nn.Module):\n",
    "    def __init__(self, in_channels, hidden_channels, out_channels):\n",
    "        super().__init__()\n",
    "        self.conv1 = GCNConv(in_channels, hidden_channels)\n",
    "        self.conv2 = GCNConv(hidden_channels, out_channels)\n",
    "\n",
    "    def encode(self, x, edge_index):\n",
    "        x = self.conv1(x, edge_index).relu()\n",
    "        return self.conv2(x, edge_index)\n",
    "\n",
    "    def decode(self, z, edge_label_index):\n",
    "        return (z[edge_label_index[0]] * z[edge_label_index[1]]).sum(dim=-1)\n",
    "\n",
    "    def decode_all(self, z):\n",
    "        prob_adj = z @ z.t()\n",
    "        return (prob_adj > 0).nonzero(as_tuple=False).t()\n",
    "\n",
    "class GATv2Net(torch.nn.Module):\n",
    "    def __init__(self, in_channels, hidden_channels, out_channels, num_heads):\n",
    "        super().__init__()\n",
    "        self.conv1 = GATv2Conv(in_channels, hidden_channels, heads=num_heads, concat=False)\n",
    "        self.conv2 = GATv2Conv(hidden_channels, out_channels, heads=num_heads, concat=False)\n",
    "\n",
    "    def encode(self, x, edge_index):\n",
    "        x = self.conv1(x, edge_index).relu()\n",
    "        return self.conv2(x, edge_index)\n",
    "\n",
    "    def decode(self, z, edge_label_index):\n",
    "        return (z[edge_label_index[0]] * z[edge_label_index[1]]).sum(dim=-1)\n",
    "\n",
    "    def decode_all(self, z):\n",
    "        prob_adj = z @ z.t()\n",
    "        return (prob_adj > 0).nonzero(as_tuple=False).t()\n",
    "    \n",
    "\n",
    "class GATv1Net(torch.nn.Module):\n",
    "    def __init__(self, in_channels, hidden_channels, out_channels, num_heads):\n",
    "        super().__init__()\n",
    "        self.conv1 = GATConv(in_channels, hidden_channels, heads=num_heads, concat=False)\n",
    "        self.conv2 = GATConv(hidden_channels, out_channels, heads=num_heads, concat=False)\n",
    "\n",
    "    def encode(self, x, edge_index):\n",
    "        x = self.conv1(x, edge_index).relu()\n",
    "        return self.conv2(x, edge_index)\n",
    "\n",
    "    def decode(self, z, edge_label_index):\n",
    "        return (z[edge_label_index[0]] * z[edge_label_index[1]]).sum(dim=-1)\n",
    "\n",
    "    def decode_all(self, z):\n",
    "        prob_adj = z @ z.t()\n",
    "        return (prob_adj > 0).nonzero(as_tuple=False).t()\n",
    "   \n"
   ]
  },
  {
   "cell_type": "code",
   "execution_count": 155,
   "metadata": {
    "scrolled": true
   },
   "outputs": [],
   "source": [
    "from sklearn.metrics import roc_auc_score\n",
    "\n",
    "def train():\n",
    "    model.train()\n",
    "    optimizer.zero_grad()\n",
    "    z = model.encode(train_data_pubmed.x, train_data_pubmed.edge_index)\n",
    "\n",
    "    # We perform a new round of negative sampling for every training epoch:\n",
    "    neg_edge_index = negative_sampling(\n",
    "        edge_index=train_data_pubmed.edge_index, num_nodes=train_data_pubmed.num_nodes,\n",
    "        num_neg_samples=train_data_pubmed.edge_label_index.size(1), method='sparse')\n",
    "\n",
    "    edge_label_index = torch.cat(\n",
    "        [train_data_pubmed.edge_label_index, neg_edge_index],\n",
    "        dim=-1,\n",
    "    )\n",
    "    edge_label = torch.cat([\n",
    "        train_data_pubmed.edge_label,\n",
    "        train_data_pubmed.edge_label.new_zeros(neg_edge_index.size(1))\n",
    "    ], dim=0)\n",
    "\n",
    "    out = model.decode(z, edge_label_index).view(-1)\n",
    "    loss = criterion(out, edge_label)\n",
    "    loss.backward()\n",
    "    optimizer.step()\n",
    "    return loss\n",
    "\n",
    "\n",
    "@torch.no_grad()\n",
    "def test(data):\n",
    "    model.eval()\n",
    "    z = model.encode(data.x, data.edge_index)\n",
    "    out = model.decode(z, data.edge_label_index).view(-1).sigmoid()\n",
    "    return roc_auc_score(data.edge_label.cpu().numpy(), out.cpu().numpy())\n"
   ]
  },
  {
   "cell_type": "code",
   "execution_count": 22,
   "metadata": {},
   "outputs": [
    {
     "name": "stdout",
     "output_type": "stream",
     "text": [
      "GCN\n"
     ]
    },
    {
     "data": {
      "application/vnd.jupyter.widget-view+json": {
       "model_id": "4448ca586fcf4454acec4b55d0cd2200",
       "version_major": 2,
       "version_minor": 0
      },
      "text/plain": [
       "  0%|          | 0/100 [00:00<?, ?it/s]"
      ]
     },
     "metadata": {},
     "output_type": "display_data"
    },
    {
     "name": "stdout",
     "output_type": "stream",
     "text": [
      "GCN Final Test: 0.9492\n",
      "GAT\n"
     ]
    },
    {
     "data": {
      "application/vnd.jupyter.widget-view+json": {
       "model_id": "d689a541347a457cacab194506b733b7",
       "version_major": 2,
       "version_minor": 0
      },
      "text/plain": [
       "  0%|          | 0/100 [00:00<?, ?it/s]"
      ]
     },
     "metadata": {},
     "output_type": "display_data"
    },
    {
     "name": "stdout",
     "output_type": "stream",
     "text": [
      "GAT Final Test: 0.8959\n",
      "GAT-multi\n"
     ]
    },
    {
     "data": {
      "application/vnd.jupyter.widget-view+json": {
       "model_id": "08ad267dce0146c4b9754e1a39252a34",
       "version_major": 2,
       "version_minor": 0
      },
      "text/plain": [
       "  0%|          | 0/100 [00:00<?, ?it/s]"
      ]
     },
     "metadata": {},
     "output_type": "display_data"
    },
    {
     "name": "stdout",
     "output_type": "stream",
     "text": [
      "GAT-multi Final Test: 0.7966\n",
      "GATv2\n"
     ]
    },
    {
     "data": {
      "application/vnd.jupyter.widget-view+json": {
       "model_id": "461ddd91d4164b6ea4a29dbf51078a34",
       "version_major": 2,
       "version_minor": 0
      },
      "text/plain": [
       "  0%|          | 0/100 [00:00<?, ?it/s]"
      ]
     },
     "metadata": {},
     "output_type": "display_data"
    },
    {
     "name": "stdout",
     "output_type": "stream",
     "text": [
      "GATv2 Final Test: 0.8736\n",
      "GATv2-multi\n"
     ]
    },
    {
     "data": {
      "application/vnd.jupyter.widget-view+json": {
       "model_id": "3780eb189f6745bcbe350266be296d9e",
       "version_major": 2,
       "version_minor": 0
      },
      "text/plain": [
       "  0%|          | 0/100 [00:00<?, ?it/s]"
      ]
     },
     "metadata": {},
     "output_type": "display_data"
    },
    {
     "name": "stdout",
     "output_type": "stream",
     "text": [
      "GATv2-multi Final Test: 0.7941\n"
     ]
    }
   ],
   "source": [
    "# for model_name in ['GCN','GAT','GAT-multi','GATv2','GATv2-multi']:\n",
    "#     print(model_name)\n",
    "    \n",
    "#     if model_name == 'GCN':\n",
    "#         model = GCNNet(train_data_pubmed.num_features, 128, 64).to(device)\n",
    "#     elif model_name == 'GAT':\n",
    "#         model = GATv1Net(train_data_pubmed.num_features, 128, 64, 1).to(device)\n",
    "#     elif model_name == 'GAT-multi':\n",
    "#         model = GATv1Net(train_data_pubmed.num_features, 128, 64, 4).to(device)\n",
    "#     elif model_name == 'GATv2':\n",
    "#         model = GATv2Net(train_data_pubmed.num_features, 128, 64, 1).to(device)\n",
    "#     elif model_name == 'GATv2-multi':\n",
    "#         model = GATv2Net(train_data_pubmed.num_features, 128, 64, 4).to(device)\n",
    "\n",
    "#     optimizer = torch.optim.Adam(params=model.parameters(), lr=0.01)\n",
    "#     criterion = torch.nn.BCEWithLogitsLoss()\n",
    "    \n",
    "#     best_val_auc = final_test_auc = 0\n",
    "#     pbar = tqdm(range(1, 101))\n",
    "#     for epoch in pbar:\n",
    "#         loss = train()\n",
    "#         val_auc = test(val_data_pubmed)\n",
    "#         test_auc = test(test_data_pubmed)\n",
    "#         if val_auc > best_val_auc:\n",
    "#             best_val_auc = val_auc\n",
    "#             final_test_auc = test_auc\n",
    "#             save_checkpoint({\n",
    "#                 'epoch': epoch,\n",
    "#                 'model_state_dict': model.state_dict(),\n",
    "#                 'optimizer_state_dict': optimizer.state_dict(),\n",
    "#                 'metrics': {'train_loss' : loss,\n",
    "#                            'val_auc' : val_auc,\n",
    "#                            'test_auc' : test_auc},\n",
    "#             }, filename=f\"PubMed_{model_name}_best.pth\")\n",
    "#         if epoch % 10 == 0 or epoch == 100:  \n",
    "#             save_checkpoint({\n",
    "#                 'epoch': epoch,\n",
    "#                 'model_state_dict': model.state_dict(),\n",
    "#                 'optimizer_state_dict': optimizer.state_dict(),\n",
    "#                 'metrics': {'train_loss' : loss,\n",
    "#                            'val_auc' : val_auc,\n",
    "#                            'test_auc' : test_auc},\n",
    "#             }, filename=f\"PubMed_{model_name}_e{str(epoch).zfill(3)}.pth\")\n",
    "#         pbar.set_description(f'tr_loss: {loss:.4f}, val_auc: {val_auc:.4f}, test_auc: {test_auc:.4f}')\n",
    "    \n",
    "#     print(f'{model_name} Final Test: {final_test_auc:.4f}')"
   ]
  },
  {
   "cell_type": "code",
   "execution_count": 170,
   "metadata": {},
   "outputs": [],
   "source": [
    "epoch_pmgcn, train_loss_pmgcn, val_loss_pmgcn = loss_shrinkage('PubMed_GCN', checkpoint_dir='ckpt')\n",
    "train_loss_pmgcn = [x.detach().numpy() for x in train_loss_pmgcn]\n",
    "epoch_pmgat, train_loss_pmgat, val_loss_pmgat = loss_shrinkage('PubMed_GAT', checkpoint_dir='ckpt')\n",
    "train_loss_pmgat = [x.detach().numpy() for x in train_loss_pmgat]\n",
    "epoch_pmgatm, train_loss_pmgatm, val_loss_pmgatm = loss_shrinkage('PubMed_GAT-multi', checkpoint_dir='ckpt')\n",
    "train_loss_pmgatm = [x.detach().numpy() for x in train_loss_pmgatm]\n",
    "epoch_pmgat2, train_loss_pmgat2, val_loss_pmgat2 = loss_shrinkage('PubMed_GATv2', checkpoint_dir='ckpt')\n",
    "train_loss_pmgat2 = [x.detach().numpy() for x in train_loss_pmgat2]\n",
    "epoch_pmgat2m, train_loss_pmgat2m, val_loss_pmgat2m = loss_shrinkage('PubMed_GATv2-multi', checkpoint_dir='ckpt')\n",
    "train_loss_pmgat2m = [x.detach().numpy() for x in train_loss_pmgat2m]"
   ]
  },
  {
   "cell_type": "markdown",
   "metadata": {
    "id": "gX6bCcZNuxmz"
   },
   "source": [
    "# Results\n",
    "In this section, you should finish training your model training or loading your trained model. That is a great experiment! You should share the results with others with necessary metrics and figures.\n",
    "\n",
    "Please test and report results for all experiments that you run with:\n",
    "\n",
    "*   specific numbers (accuracy, AUC, RMSE, etc)\n",
    "*   figures (loss shrinkage, outputs from GAN, annotation or label of sample pictures, etc)\n"
   ]
  },
  {
   "cell_type": "code",
   "execution_count": null,
   "metadata": {
    "id": "LjW9bCkouv8O"
   },
   "outputs": [],
   "source": [
    "# metrics to evaluate my model\n",
    "\n",
    "# plot figures to better show the results\n",
    "\n",
    "# it is better to save the numbers and figures for your presentation."
   ]
  },
  {
   "cell_type": "code",
   "execution_count": 28,
   "metadata": {},
   "outputs": [],
   "source": [
    "import matplotlib.pyplot as plt"
   ]
  },
  {
   "cell_type": "markdown",
   "metadata": {},
   "source": [
    "## Result 1：Drug-drug Interaction (DDI) Prediciton"
   ]
  },
  {
   "cell_type": "markdown",
   "metadata": {},
   "source": [
    "| Model | Accuracy | AUROC | AUPRC | F1-Score |\n",
    "|  ----  | ----  | ----  | ----  |----  |\n",
    "| GAT | 0.5846 | 0.6183 | 0.5895|0.6082|"
   ]
  },
  {
   "cell_type": "code",
   "execution_count": 88,
   "metadata": {},
   "outputs": [
    {
     "data": {
      "image/png": "[encoded data removed]",
      "text/plain": [
       "<Figure size 640x480 with 1 Axes>"
      ]
     },
     "metadata": {},
     "output_type": "display_data"
    }
   ],
   "source": [
    "plt.title(\"Precision - Recall curve\")\n",
    "plt.plot(test_p_ddi[0:18000],test_r_ddi[0:18000])\n",
    "plt.xlabel('Recall')\n",
    "plt.ylabel('Precision')\n",
    "plt.show()"
   ]
  },
  {
   "cell_type": "code",
   "execution_count": 95,
   "metadata": {},
   "outputs": [
    {
     "data": {
      "image/png": "[encoded data removed]",
      "text/plain": [
       "<Figure size 640x480 with 1 Axes>"
      ]
     },
     "metadata": {},
     "output_type": "display_data"
    }
   ],
   "source": [
    "plt.title(\"Loss Shrinkage\")\n",
    "sorted_id = sorted(range(len(epoch_ddi)), key=lambda k: epoch_ddi[k], reverse=True)\n",
    "epoch_ddi = np.array(epoch_ddi)[sorted_id]\n",
    "train_loss_ddi = np.array(train_loss_ddi)[sorted_id]\n",
    "plt.plot(epoch_ddi,train_loss_ddi)\n",
    "plt.show()"
   ]
  },
  {
   "cell_type": "markdown",
   "metadata": {},
   "source": [
    "## Result 2：Protein-protein Interaction"
   ]
  },
  {
   "cell_type": "markdown",
   "metadata": {},
   "source": [
    "| Model  | Precision | Recall | F1-Score |\n",
    "|  ----  | ----  | ----  |----  |\n",
    "| GAT    |  0.9641 |  0.9514| 0.9577|"
   ]
  },
  {
   "cell_type": "code",
   "execution_count": 166,
   "metadata": {},
   "outputs": [
    {
     "data": {
      "image/png": "[encoded data removed]",
      "text/plain": [
       "<Figure size 640x480 with 1 Axes>"
      ]
     },
     "metadata": {},
     "output_type": "display_data"
    }
   ],
   "source": [
    "plt.title(\"Loss Shrinkage\")\n",
    "sorted_id = sorted(range(len(epoch_ppi)), key=lambda k: epoch_ppi[k], reverse=True)\n",
    "epoch_ppi = np.array(epoch_ppi)[sorted_id]\n",
    "train_loss_ppi = np.array(train_loss_ppi)[sorted_id]\n",
    "plt.plot(epoch_ppi,train_loss_ppi)\n",
    "plt.show()"
   ]
  },
  {
   "cell_type": "markdown",
   "metadata": {},
   "source": [
    "## Result 3：Protein-protein Interaction"
   ]
  },
  {
   "cell_type": "markdown",
   "metadata": {},
   "source": [
    "| Model  | AUROC |\n",
    "|  ----  | ----  |\n",
    "| GCN   |  0.9492 |\n",
    "| GAT    | 0.8959 |\n",
    "| GAT-multi |  0.7966 |\n",
    "| GATv2    |  0.8736 |\n",
    "| GATv2-multi | 0.7941 |"
   ]
  },
  {
   "cell_type": "code",
   "execution_count": 178,
   "metadata": {},
   "outputs": [],
   "source": [
    "epoch_pmgcn, train_loss_pmgcn, val_loss_pmgcn = loss_shrinkage('PubMed_GCN', checkpoint_dir='ckpt')\n",
    "train_loss_pmgcn = [x.detach().numpy() for x in train_loss_pmgcn]\n",
    "epoch_pmgat, train_loss_pmgat, val_loss_pmgat = loss_shrinkage('PubMed_GAT', checkpoint_dir='ckpt')\n",
    "train_loss_pmgat = [x.detach().numpy() for x in train_loss_pmgat]\n",
    "epoch_pmgatm, train_loss_pmgatm, val_loss_pmgatm = loss_shrinkage('PubMed_GAT-multi', checkpoint_dir='ckpt')\n",
    "train_loss_pmgatm = [x.detach().numpy() for x in train_loss_pmgatm]\n",
    "epoch_pmgat2, train_loss_pmgat2, val_loss_pmgat2 = loss_shrinkage('PubMed_GATv2', checkpoint_dir='ckpt')\n",
    "train_loss_pmgat2 = [x.detach().numpy() for x in train_loss_pmgat2]\n",
    "epoch_pmgat2m, train_loss_pmgat2m, val_loss_pmgat2m = loss_shrinkage('PubMed_GATv2-multi', checkpoint_dir='ckpt')\n",
    "train_loss_pmgat2m = [x.detach().numpy() for x in train_loss_pmgat2m]"
   ]
  },
  {
   "cell_type": "code",
   "execution_count": 184,
   "metadata": {},
   "outputs": [
    {
     "data": {
      "image/png": "[encoded data removed]",
      "text/plain": [
       "<Figure size 640x480 with 1 Axes>"
      ]
     },
     "metadata": {},
     "output_type": "display_data"
    }
   ],
   "source": [
    "plt.title(\"Loss Shrinkage\")\n",
    "sorted_id = sorted(range(len(epoch_pmgcn)), key=lambda k: epoch_pmgcn[k], reverse=True)\n",
    "epoch_pmgcn = np.array(epoch_pmgcn)[sorted_id]\n",
    "train_loss_pmgcn = np.array(train_loss_pmgcn)[sorted_id]\n",
    "plt.plot(epoch_pmgcn,train_loss_pmgcn, color='green', label='GCN')\n",
    "\n",
    "sorted_id = sorted(range(len(epoch_pmgat)), key=lambda k: epoch_pmgat[k], reverse=True)\n",
    "epoch_pmgat = np.array(epoch_pmgat)[sorted_id]\n",
    "train_loss_pmgat = np.array(train_loss_pmgat)[sorted_id]\n",
    "plt.plot(epoch_pmgat,train_loss_pmgat, color='yellow', label='GAT')\n",
    "\n",
    "sorted_id = sorted(range(len(epoch_pmgatm)), key=lambda k: epoch_pmgatm[k], reverse=True)\n",
    "epoch_pmgatm = np.array(epoch_pmgatm)[sorted_id]\n",
    "train_loss_pmgatm = np.array(train_loss_pmgatm)[sorted_id]\n",
    "plt.plot(epoch_pmgatm,train_loss_pmgatm, label='GAT-multiple')\n",
    "\n",
    "sorted_id = sorted(range(len(epoch_pmgat2)), key=lambda k: epoch_pmgat2[k], reverse=True)\n",
    "epoch_pmgat2 = np.array(epoch_pmgat2)[sorted_id]\n",
    "train_loss_pmgat2 = np.array(train_loss_pmgat2)[sorted_id]\n",
    "plt.plot(epoch_pmgat2,train_loss_pmgat2, label='GATv2')\n",
    "\n",
    "sorted_id = sorted(range(len(epoch_pmgat2m)), key=lambda k: epoch_pmgat2m[k], reverse=True)\n",
    "epoch_pmgat2m = np.array(epoch_pmgat2m)[sorted_id]\n",
    "train_loss_pmgat2m = np.array(train_loss_pmgat2m)[sorted_id]\n",
    "plt.plot(epoch_pmgat2m,train_loss_pmgat2m,color='red', label='GATv2-multi')\n",
    "plt.legend()\n",
    "plt.show()"
   ]
  },
  {
   "cell_type": "markdown",
   "metadata": {
    "id": "8EAWAy_LwHlV"
   },
   "source": [
    "## Model comparison"
   ]
  },
  {
   "cell_type": "code",
   "execution_count": null,
   "metadata": {
    "id": "uOdhGrbwwG71"
   },
   "outputs": [],
   "source": [
    "# compare you model with others\n",
    "# you don't need to re-run all other experiments, instead, you can directly refer the metrics/numbers in the paper"
   ]
  },
  {
   "cell_type": "markdown",
   "metadata": {
    "id": "qH75TNU71eRH",
    "jp-MarkdownHeadingCollapsed": true
   },
   "source": [
    "# Discussion\n",
    "\n",
    "In this section,you should discuss your work and make future plan. The discussion should address the following questions:\n",
    "  * Make assessment that the paper is reproducible or not.\n",
    "  * Explain why it is not reproducible if your results are kind negative.\n",
    "  * Describe “What was easy” and “What was difficult” during the reproduction.\n",
    "  * Make suggestions to the author or other reproducers on how to improve the reproducibility.\n",
    "  * What will you do in next phase.\n",
    "\n"
   ]
  },
  {
   "cell_type": "code",
   "execution_count": null,
   "metadata": {
    "id": "E2VDXo5F4Frm"
   },
   "outputs": [],
   "source": [
    "# no code is required for this section\n",
    "'''\n",
    "if you want to use an image outside this notebook for explanaition,\n",
    "you can read and plot it here like the Scope of Reproducibility\n",
    "'''"
   ]
  },
  {
   "cell_type": "markdown",
   "metadata": {
    "id": "SHMI2chl9omn"
   },
   "source": [
    "# References\n",
    "\n",
    "Shaked Brody, Uri Alon, and Eran Yahav. How attentive are graph attention networks? In The Tenth\n",
    "International Conference on Learning Representations, ICLR 2022, Virtual Event, April 25-29,\n",
    "2022. OpenReview.net, 2022. URL https://openreview.net/forum?id=F72ximsx7C1\n",
    "\n",
    "Petar Velickovic, Guillem Cucurull, Arantxa Casanova, Adriana Romero, Pietro Liò, and Yoshua\n",
    "Bengio. Graph attention networks. In 6th International Conference on Learning Representations,\n",
    "ICLR 2018, Vancouver, BC, Canada, April 30 - May 3, 2018, Conference Track Proceedings.\n",
    "OpenReview.net, 2018. URL https://openreview.net/forum?id=rJXMpikCZ.\n",
    "\n"
   ]
  },
  {
   "cell_type": "markdown",
   "metadata": {
    "id": "xmVuzQ724HbO"
   },
   "source": [
    "# Feel free to add new sections"
   ]
  },
  {
   "cell_type": "code",
   "execution_count": null,
   "metadata": {},
   "outputs": [],
   "source": []
  }
 ],
 "metadata": {
  "colab": {
   "private_outputs": true,
   "provenance": [
    {
     "file_id": "1oAKqszNlwEZwPa_BjHPqfcoWlikYBpi5",
     "timestamp": 1709153069464
    }
   ],
   "toc_visible": true
  },
  "kernelspec": {
   "display_name": "gat",
   "language": "python",
   "name": "gat"
  },
  "language_info": {
   "codemirror_mode": {
    "name": "ipython",
    "version": 3
   },
   "file_extension": ".py",
   "mimetype": "text/x-python",
   "name": "python",
   "nbconvert_exporter": "python",
   "pygments_lexer": "ipython3",
   "version": "3.8.19"
  }
 },
 "nbformat": 4,
 "nbformat_minor": 4
}
