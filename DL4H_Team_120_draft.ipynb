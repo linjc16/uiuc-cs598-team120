{
 "cells": [
  {
   "cell_type": "markdown",
   "metadata": {
    "id": "j01aH0PR4Sg-"
   },
   "source": [
    "# Before you use this template\n",
    "\n",
    "This template is just a recommended template for project Report. It only considers the general type of research in our paper pool. Feel free to edit it to better fit your project. You will iteratively update the same notebook submission for your draft and the final submission. Please check the project rubriks to get a sense of what is expected in the template.\n",
    "\n",
    "---\n",
    "\n",
    "# FAQ and Attentions\n",
    "* Copy and move this template to your Google Drive. Name your notebook by your team ID (upper-left corner). Don't eidt this original file.\n",
    "* This template covers most questions we want to ask about your reproduction experiment. You don't need to exactly follow the template, however, you should address the questions. Please feel free to customize your report accordingly.\n",
    "* any report must have run-able codes and necessary annotations (in text and code comments).\n",
    "* The notebook is like a demo and only uses small-size data (a subset of original data or processed data), the entire runtime of the notebook including data reading, data process, model training, printing, figure plotting, etc,\n",
    "must be within 8 min, otherwise, you may get penalty on the grade.\n",
    "  * If the raw dataset is too large to be loaded  you can select a subset of data and pre-process the data, then, upload the subset or processed data to Google Drive and load them in this notebook.\n",
    "  * If the whole training is too long to run, you can only set the number of training epoch to a small number, e.g., 3, just show that the training is runable.\n",
    "  * For results model validation, you can train the model outside this notebook in advance, then, load pretrained model and use it for validation (display the figures, print the metrics).\n",
    "* The post-process is important! For post-process of the results,please use plots/figures. The code to summarize results and plot figures may be tedious, however, it won't be waste of time since these figures can be used for presentation. While plotting in code, the figures should have titles or captions if necessary (e.g., title your figure with \"Figure 1. xxxx\")\n",
    "* There is not page limit to your notebook report, you can also use separate notebooks for the report, just make sure your grader can access and run/test them.\n",
    "* If you use outside resources, please refer them (in any formats). Include the links to the resources if necessary."
   ]
  },
  {
   "cell_type": "markdown",
   "metadata": {},
   "source": [
    "# Project Github Repo: https://github.com/linjc16/uiuc-cs598-team120"
   ]
  },
  {
   "cell_type": "markdown",
   "metadata": {
    "id": "MQ0sNuMePBXx"
   },
   "source": [
    "# 1 Introduction\n",
    "This is an introduction to your report, you should edit this text/mardown section to compose. In this text/markdown, you should introduce:\n",
    "\n",
    "*   Background of the problem\n",
    "  1. what type of problem: disease/readmission/mortality prediction,  feature engineeing, data processing, etc\n",
    "  2. what is the importance/meaning of solving the problem\n",
    "  3. what is the difficulty of the problem\n",
    "  4. the state of the art methods and effectiveness.\n",
    "*   Paper explanation\n",
    "  1. what did the paper propose\n",
    "  2. what is the innovations of the method\n",
    "  3. how well the proposed method work (in its own metrics)\n",
    "  4. what is the contribution to the reasearch regime (referring the Background above, how important the paper is to the problem).\n"
   ]
  },
  {
   "cell_type": "markdown",
   "metadata": {},
   "source": [
    "## 1.1 Background of the problem\n",
    "Graph-structured data are ubiquitous in various applications of healthcare domain, such as protein-protein interaction (PPI) prediction and drug-drug interaction (DDI) prediction. Graph Attention Networks (GAT) (Velickovic et al., 2018), as one of the most popular Graph Neural Networks (GNNs), has been widely adopted in these applications due to its ability to effectively model relationships between nodes in a graph. In this project, we are trying to explore the role of GAT in healthcare domains. \n",
    "\n",
    "1. what type of problem: disease/readmission/mortality prediction,  feature engineeing, data processing, etc \\\n",
    "**Ans:** Drug-drug Interaction (DDI), Protein-protein Interaction (PPI), and Link Prediciton in PubMed Citation Network. Starting from these three tasks, we explore the potential of GAT in healthcare domains.\n",
    "\n",
    "2. what is the importance/meaning of solving the problem \\\n",
    "**Ans:** These three tasks are representative in healthcare domains: DDI prediciton aims to identify potentially adverse interactions between drugs, helping to enhance patient safety and treatment effectiveness. PPI prediction focuses on understanding how proteins interact within the human body, which is crucial for developing new therapeutic strategies and understanding biological processes. Finally, link prediction in PubMed Citation Network can uncover hidden relationships between various medical studies, enhancing the synthesis of medical knowledge and fostering new research insights. By addressing these problems using the Graph Attention Networks (GAT), we leverage advanced machine learning techniques to provide more accurate predictions and deeper insights\n",
    "\n",
    "3. what is the difficulty of the problem \\\n",
    "**Ans:** The difficulty of these problems lies in the following areas: complexity of interactions, sparsity of known interactions, and the need for accurate and generalizable predictive models.\n",
    "\n",
    "4. the state of the art methods and effectiveness \\\n",
    "**Ans:** Since our project focuses on the role of GAT in healthcare domain applications, this question is not applicable."
   ]
  },
  {
   "cell_type": "markdown",
   "metadata": {},
   "source": [
    "## 1.2 Paper explanation\n",
    "1. what did the paper propose \\\n",
    "**Ans**: The paper introduced Graph Attention Networks (GATs), which utilize masked self-attentional layers to operate on graph-structured data. GATs allow each node to attend over its neighborhoods' features dynamically, which improves flexibility and performance over previous methods that relied on graph convolutions.\n",
    "\n",
    "2. what is the innovations of the method \\\n",
    "**Ans**: The innovations include the use of attention mechanisms that allow for different weights to be assigned to different nodes in a neighborhood, enhancing model capacity and interpretability. The GATs perform efficiently without needing costly matrix operations and are applicable to both inductive and transductive learning tasks. They also employ multi-head attention to stabilize the learning process.\n",
    "\n",
    "3. how well the proposed method work (in its own metrics) \\\n",
    "**Ans**: GATs achieved or matched state-of-the-art results (till the date it was published) on several transductive and inductive graph benchmarks, including Cora, Citeseer, Pubmed citation networks, and a protein-protein interaction dataset. Notably, the results demonstrated the effectiveness of attention-based models on graph-structured data, particularly showing a significant improvement in the inductive learning task on the protein-protein interaction dataset.\n",
    "\n",
    "4. what is the contribution to the reasearch regime (referring the Background above, how important the paper is to the problem). \\\n",
    "**Ans**: The paper contributes significantly to the domain of graph neural networks by providing a more flexible and powerful alternative to previous models like GCNs (Graph Convolutional Networks). By applying GATs in the healthcare domains, the performance of most of tasks with graph structures improved a lot. Specifically, in drug-drug interaction prediction task, each drug is modeled as a molecule graph whose features can be extracted by GAT. For the PPI and link prediciton, both tasks contains networks, also a graph structure that can be fed into GATs.\n",
    "\n"
   ]
  },
  {
   "cell_type": "markdown",
   "metadata": {
    "id": "uygL9tTPSVHB"
   },
   "source": [
    "# 2 Scope of Reproducibility:\n",
    "\n",
    "List hypotheses from the paper you will test and the corresponding experiments you will run.\n",
    "\n",
    "\n",
    "1.   Hypothesis 1: attention mechanism greatly improves the performace of GAT for most of the time;\n",
    "- We will run GAT and GCN (GAT w/o attention) on the three tasks.\n",
    "2.   Hypothesis 2: multi-head benifits the feature extraction process;\n",
    "- We will run single-head and multi-head GATs.\n",
    "3.   Hypothesis 3: one of the drawbacks of GAT is that, the attention mechanism is static instead of dynamic (Brody et al., 2022).\n",
    "- We will run GATv2 and the original GAT.\n",
    "\n",
    "<!-- You can insert images in this notebook text, [see this link](https://stackoverflow.com/questions/50670920/how-to-insert-an-inline-image-in-google-colaboratory-from-google-drive) and example below:\n",
    "\n",
    "![sample_image.png](https://drive.google.com/uc?export=view&id=1g2efvsRJDxTxKz-OY3loMhihrEUdBxbc) -->\n"
   ]
  },
  {
   "cell_type": "markdown",
   "metadata": {
    "id": "xWAHJ_1CdtaA"
   },
   "source": [
    "# 3 Methodology\n",
    "\n",
    "This methodology is the core of your project. It consists of run-able codes with necessary annotations to show the expeiment you executed for testing the hypotheses.\n",
    "\n",
    "The methodology at least contains two subsections **data** and **model** in your experiment."
   ]
  },
  {
   "cell_type": "markdown",
   "metadata": {
    "id": "2NbPHUTMbkD3"
   },
   "source": [
    "##  3.1 Data\n",
    "Data includes raw data (MIMIC III tables), descriptive statistics (our homework questions), and data processing (feature engineering).\n",
    "  * Source of the data: where the data is collected from; if data is synthetic or self-generated, explain how. If possible, please provide a link to the raw datasets.\n",
    "  * Statistics: include basic descriptive statistics of the dataset like size, cross validation split, label distribution, etc.\n",
    "  * Data process: how do you munipulate the data, e.g., change the class labels, split the dataset to train/valid/test, refining the dataset.\n",
    "  * Illustration: printing results, plotting figures for illustration.\n",
    "  * You can upload your raw dataset to Google Drive and mount this Colab to the same directory. If your raw dataset is too large, you can upload the processed dataset and have a code to load the processed dataset."
   ]
  },
  {
   "cell_type": "markdown",
   "metadata": {},
   "source": [
    "1. Source of the data \\\n",
    "(1) DDI: dataset is from Lin et al. 2023. The dataset is a real-world DDI benchmark dataset constructed from DrugBank. The link to the raw dataset is https://github.com/linjc16/R2-DDI. (2) PPI: dataset is from https://data.dgl.ai/dataset/ppi.zip. Real-word dataset. (3) Link Prediction: https://pytorch-geometric.readthedocs.io/en/latest/generated/torch_geometric.datasets.CitationFull.html. Real-word dataset.\n",
    "\n",
    "2. Statistics: \\\n",
    "(1) DDI: 191k positive triples [drugA, drugB, relation], 1708 drugs, grouped into 86 relations. Training/validation/test sets are 3:1:1. (2) PPI: fully follow the https://data.dgl.ai/dataset/ppi.zip. The detailed statistics can be seen in the following output. (3) Link Prediction: Training/validation/test sets are 0.85:0.05:0.1. The detailed statistics can be seen in the following output.\n",
    "\n",
    "3. Data process: \\\n",
    "For all the three dataset, all the data are processed and we directly use the data for this project.\n",
    "\n",
    "4. Illustration: \\\n",
    "See the results for each task below."
   ]
  },
  {
   "cell_type": "markdown",
   "metadata": {
    "id": "XzVUQS0CHry0"
   },
   "source": [
    "## Data 1: Drug-drug Interaction (DDI) Prediciton"
   ]
  },
  {
   "cell_type": "code",
   "execution_count": 1,
   "metadata": {},
   "outputs": [
    {
     "name": "stdout",
     "output_type": "stream",
     "text": [
      "Split: train\n",
      "Number of samples: 115185\n",
      "Number of drugs: 1671\n",
      "Number of interactions: 86\n",
      "**************************************************\n",
      "Split: val\n",
      "Number of samples: 38348\n",
      "Number of drugs: 1582\n",
      "Number of interactions: 86\n",
      "**************************************************\n",
      "Split: test\n",
      "Number of samples: 38337\n",
      "Number of drugs: 1597\n",
      "Number of interactions: 86\n",
      "**************************************************\n"
     ]
    }
   ],
   "source": [
    "import pandas as pd\n",
    "import os\n",
    "\n",
    "# dir and function to load raw data\n",
    "raw_data_dir = 'data/drug_interaction'\n",
    "\n",
    "def load_data(raw_data_dir):\n",
    "    # implement this function to load raw data to dataframe/numpy array/tensor\n",
    "    \n",
    "    df_ddi_train = pd.read_csv(os.path.join(raw_data_dir, 'ddi_training.csv'))\n",
    "    df_ddi_val = pd.read_csv(os.path.join(raw_data_dir, 'ddi_validation.csv'))\n",
    "    df_ddi_test = pd.read_csv(os.path.join(raw_data_dir, 'ddi_test.csv'))\n",
    "\n",
    "    return df_ddi_train, df_ddi_val, df_ddi_test\n",
    "\n",
    "\n",
    "df_ddi_train, df_ddi_val, df_ddi_test = load_data(raw_data_dir)\n",
    "\n",
    "# calculate statistics\n",
    "def calculate_stats(df_ddi, split):\n",
    "    # implement this function to calculate the statistics\n",
    "    # it is encouraged to print out the results\n",
    "\n",
    "    # statistics for the dataset\n",
    "    # (1) number of samples; (2) number of drugs [set for d1 and d2]; (3) number of drug interactions [type]\n",
    "    num_samples = df_ddi.shape[0]\n",
    "    num_drugs = len(set(df_ddi['d1'].values) | set(df_ddi['d2'].values))\n",
    "    num_interactions = len(set(df_ddi['type'].values))\n",
    "    \n",
    "    print(f'Split: {split}')\n",
    "    print(f'Number of samples: {num_samples}')\n",
    "    print(f'Number of drugs: {num_drugs}')\n",
    "    print(f'Number of interactions: {num_interactions}')\n",
    "    print('*' * 50)\n",
    "\n",
    "\n",
    "calculate_stats(df_ddi_train, 'train')\n",
    "calculate_stats(df_ddi_val, 'val')\n",
    "calculate_stats(df_ddi_test, 'test')\n",
    "\n"
   ]
  },
  {
   "cell_type": "code",
   "execution_count": 2,
   "metadata": {},
   "outputs": [],
   "source": [
    "train_tup_ddi = [(h, t, r) for h, t, r in zip(df_ddi_train['d1'], df_ddi_train['d2'], df_ddi_train['type'])]\n",
    "val_tup_ddi = [(h, t, r) for h, t, r in zip(df_ddi_val['d1'], df_ddi_val['d2'], df_ddi_val['type'])]\n",
    "test_tup_ddi = [(h, t, r) for h, t, r in zip(df_ddi_test['d1'], df_ddi_test['d2'], df_ddi_test['type'])]"
   ]
  },
  {
   "cell_type": "markdown",
   "metadata": {},
   "source": [
    "## Data 2: Protein-protein Interaction (PPI) Prediction"
   ]
  },
  {
   "cell_type": "code",
   "execution_count": 3,
   "metadata": {},
   "outputs": [
    {
     "name": "stderr",
     "output_type": "stream",
     "text": [
      "Downloading https://data.dgl.ai/dataset/ppi.zip\n",
      "Extracting data/ppi/ppi.zip\n",
      "Processing...\n"
     ]
    },
    {
     "name": "stdout",
     "output_type": "stream",
     "text": [
      "Split: train\n",
      "Number of graphs: 20\n",
      "Number of nodes: 44906\n",
      "Number of edges: 1226368\n",
      "Number of features: 50\n",
      "Number of classes: 121\n",
      "**************************************************\n",
      "Split: val\n",
      "Number of graphs: 2\n",
      "Number of nodes: 6514\n",
      "Number of edges: 198920\n",
      "Number of features: 50\n",
      "Number of classes: 121\n",
      "**************************************************\n",
      "Split: test\n",
      "Number of graphs: 2\n",
      "Number of nodes: 5524\n",
      "Number of edges: 161976\n",
      "Number of features: 50\n",
      "Number of classes: 121\n",
      "**************************************************\n"
     ]
    },
    {
     "name": "stderr",
     "output_type": "stream",
     "text": [
      "Done!\n"
     ]
    }
   ],
   "source": [
    "from torch_geometric.datasets import PPI\n",
    "from torch_geometric.loader import DataLoader\n",
    "\n",
    "def load_data(data_dir):\n",
    "    path = data_dir\n",
    "    train_dataset = PPI(path, split='train')\n",
    "    val_dataset = PPI(path, split='val')\n",
    "    test_dataset = PPI(path, split='test')\n",
    "\n",
    "    return train_dataset, val_dataset, test_dataset\n",
    "\n",
    "train_dataset_ppi, val_dataset_ppi, test_dataset_ppi = load_data('data/ppi')\n",
    "\n",
    "\n",
    "# outut the statistics\n",
    "def calculate_stats(dataset, split):\n",
    "    # Initialize counters\n",
    "    num_graphs = len(dataset)\n",
    "    num_nodes = 0\n",
    "    num_edges = 0\n",
    "\n",
    "    # Loop through the dataset to accumulate statistics\n",
    "    for data in dataset:\n",
    "        num_nodes += data.num_nodes\n",
    "        num_edges += data.num_edges\n",
    "    \n",
    "    # Since features and classes are consistent across the dataset, we can take them from the first graph\n",
    "    num_features = dataset[0].num_features\n",
    "    num_classes = dataset[0].y.size(1)  # Assuming the labels are one-hot encoded\n",
    "\n",
    "    print(f'Split: {split}')\n",
    "    print(f'Number of graphs: {num_graphs}')\n",
    "    print(f'Number of nodes: {num_nodes}')\n",
    "    print(f'Number of edges: {num_edges}')\n",
    "    print(f'Number of features: {num_features}')\n",
    "    print(f'Number of classes: {num_classes}')\n",
    "    print('*' * 50)\n",
    "\n",
    "calculate_stats(train_dataset_ppi, 'train')\n",
    "calculate_stats(val_dataset_ppi, 'val')\n",
    "calculate_stats(test_dataset_ppi, 'test')"
   ]
  },
  {
   "cell_type": "markdown",
   "metadata": {},
   "source": [
    "## Data 3: PubMed Citation Network"
   ]
  },
  {
   "cell_type": "code",
   "execution_count": 4,
   "metadata": {},
   "outputs": [
    {
     "name": "stderr",
     "output_type": "stream",
     "text": [
      "Downloading https://github.com/abojchevski/graph2gauss/raw/master/data/pubmed.npz\n",
      "Processing...\n",
      "Done!\n"
     ]
    },
    {
     "name": "stdout",
     "output_type": "stream",
     "text": [
      "Split: train\n",
      "Statistics for the citation network:\n",
      "Number of graphs: 1\n",
      "Number of nodes: 19717\n",
      "Number of edges: 37676\n",
      "Number of features: 500\n",
      "Number of classes: 3\n",
      "**************************************************\n",
      "Split: val\n",
      "Statistics for the citation network:\n",
      "Number of graphs: 1\n",
      "Number of nodes: 19717\n",
      "Number of edges: 37676\n",
      "Number of features: 500\n",
      "Number of classes: 3\n",
      "**************************************************\n",
      "Split: test\n",
      "Statistics for the citation network:\n",
      "Number of graphs: 1\n",
      "Number of nodes: 19717\n",
      "Number of edges: 39892\n",
      "Number of features: 500\n",
      "Number of classes: 3\n",
      "**************************************************\n"
     ]
    }
   ],
   "source": [
    "from torch_geometric.datasets import CitationFull\n",
    "import torch_geometric.transforms as T\n",
    "import torch\n",
    "\n",
    "device = 'cuda' if torch.cuda.is_available() else 'cpu'\n",
    "\n",
    "transform = T.Compose([\n",
    "    T.NormalizeFeatures(),\n",
    "    T.ToDevice(device),\n",
    "    T.RandomLinkSplit(num_val=0.05, num_test=0.1, is_undirected=True,\n",
    "                      add_negative_train_samples=False),\n",
    "])\n",
    "\n",
    "def load_pubmed_data(data_dir):\n",
    "    dataset = CitationFull(root=data_dir, name='PubMed', transform=transform)\n",
    "    train_data, val_data, test_data = dataset[0]\n",
    "\n",
    "    return train_data, val_data, test_data\n",
    "\n",
    "train_data_pubmed, val_data_pubmed, test_data_pubmed = load_pubmed_data('data/pubmed')\n",
    "\n",
    "def calculate_stats_citation(dataset, split):\n",
    "    # For citation networks processed by RandomLinkSplit, we typically have one graph represented by edge splits.\n",
    "    num_nodes = dataset.num_nodes  # Total number of nodes in the dataset\n",
    "    num_edges = dataset['edge_index'].size(1) // 2  # Divided by 2 for undirected graphs\n",
    "    num_features = dataset.num_features  # Number of features per node\n",
    "    num_classes = dataset.y.unique().size(0)  # Assuming 'y' holds class labels for nodes\n",
    "    # Print the statistics\n",
    "    print(f'Split: {split}')\n",
    "    print(\"Statistics for the citation network:\")\n",
    "    print(f\"Number of graphs: 1\")\n",
    "    print(f\"Number of nodes: {num_nodes}\")\n",
    "    print(f\"Number of edges: {num_edges}\")\n",
    "    print(f\"Number of features: {num_features}\")\n",
    "    print(f\"Number of classes: {num_classes}\")\n",
    "    print('*' * 50)\n",
    "\n",
    "\n",
    "calculate_stats_citation(train_data_pubmed, 'train')\n",
    "calculate_stats_citation(val_data_pubmed, 'val')\n",
    "calculate_stats_citation(test_data_pubmed, 'test')\n"
   ]
  },
  {
   "cell_type": "markdown",
   "metadata": {
    "id": "3muyDPFPbozY"
   },
   "source": [
    "##   3.2 Model & Training & Evaluation\n",
    "The model includes the model definitation which usually is a class, model training, and other necessary parts.\n",
    "  * Model architecture: layer number/size/type, activation function, etc\n",
    "  * Training objectives: loss function, optimizer, weight of each loss term, etc\n",
    "  * Others: whether the model is pretrained, Monte Carlo simulation for uncertainty analysis, etc\n",
    "  * The code of model should have classes of the model, functions of model training, model validation, etc.\n",
    "  * If your model training is done outside of this notebook, please upload the trained model here and develop a function to load and test it."
   ]
  },
  {
   "cell_type": "markdown",
   "metadata": {},
   "source": [
    "1. Model architecture: \\\n",
    "(1) DDI: given a input triplet (drug A, drug B, relation), we use one GAT to encode both drugs and nn.Embeddings for relations. Then, we concat them and feed the concat tensor to a classifier. (2) PPI: Multi-layer GATs. (3) Link Prediction: Graph Autoencoders. More details can be found in the following code which is extremely clear.\n",
    "\n",
    "2. Training objectives: \\\n",
    "(1) DDI: loss_func is -logsigmoid(pos_tri) - logsigmoid(-neg_tri). Adam optimizer. (2) PPI: BCE loss, Adam optimizer; (3) Link Prediciton: BCE loss, Adam optimizer;\n",
    "\n",
    "3. Others: \\\n",
    "All the models in this project are trained from scratch.\n",
    "\n",
    "4. Computational requirements: \\\n",
    "All the models can be run with a single 40G A6000.\n",
    "\n",
    "5. Evaluation Metrics:\n",
    "All the three tasks can be attributed to classification tasks. Thus, the metrics for evaluation are accuracy, precision, recall, F1 scores, and AUROC."
   ]
  },
  {
   "cell_type": "code",
   "execution_count": 6,
   "metadata": {},
   "outputs": [],
   "source": [
    "from tqdm.notebook import tqdm\n",
    "\n",
    "def save_checkpoint(state, filename):\n",
    "    if not os.path.exists('./ckpt'):\n",
    "        os.makedirs('./ckpt')\n",
    "    torch.save(state, f'./ckpt/{filename}.pth')\n",
    "\n",
    "def load_checkpoint(model, optimizer, scheduler, filename):\n",
    "    checkpoint = torch.load(f'./ckpt/{filename}.pth')\n",
    "    model.load_state_dict(checkpoint['model_state_dict'])\n",
    "    optimizer.load_state_dict(checkpoint['optimizer_state_dict'])\n",
    "    if 'scheduler_state_dict' in checkpoint and scheduler:\n",
    "        scheduler.load_state_dict(checkpoint['scheduler_state_dict'])\n",
    "    epoch = checkpoint['epoch']\n",
    "    return epoch\n",
    "\n",
    "import re\n",
    "\n",
    "def find_last_checkpoint_by_epoch(prefix, checkpoint_dir='ckpt'):\n",
    "    # prefix = task name, ddi, ppi, PubMed-[model]\n",
    "    pattern = re.compile(prefix + r\"_e(\\d{3}).pth\")\n",
    "    checkpoint_files = [f for f in os.listdir(checkpoint_dir) if os.path.isfile(os.path.join(checkpoint_dir, f)) and pattern.match(f)]\n",
    "    epochs = [(int(pattern.search(f).group(1)), f) for f in checkpoint_files]\n",
    "    if epochs:\n",
    "        max_epoch_file = max(epochs, key=lambda x: x[0])[1]\n",
    "        return os.path.join(checkpoint_dir, max_epoch_file)\n",
    "    else:\n",
    "        return None"
   ]
  },
  {
   "cell_type": "markdown",
   "metadata": {},
   "source": [
    "## Task 1: Training GAT for Drug-drug Interaction\n",
    "The input and output for DDI prediction is\n",
    "* Input: Concat[Drug A, Drug B, relation]\n",
    "* Output: Predicted Probability"
   ]
  },
  {
   "cell_type": "code",
   "execution_count": 26,
   "metadata": {},
   "outputs": [],
   "source": [
    "from utils_ddi import DrugDataset, DrugDataLoader, TOTAL_ATOM_FEATS\n",
    "import numpy as np\n",
    "import torch\n",
    "from sklearn import metrics\n",
    "from datetime import datetime\n",
    "import time\n",
    "import torch.nn as nn\n",
    "import torch.optim as optim\n",
    "import torch.nn.functional as F\n",
    "\n",
    "# Hyperparameters\n",
    "n_atom_feats = TOTAL_ATOM_FEATS\n",
    "n_atom_hid = 64\n",
    "rel_total = 86\n",
    "lr = 1e-2\n",
    "weight_decay = 5e-4\n",
    "n_epochs = 300\n",
    "neg_samples = 1\n",
    "batch_size = 1024\n",
    "\n",
    "train_data_ddi = DrugDataset(train_tup_ddi, ratio=1, neg_ent=1)\n",
    "val_data_ddi = DrugDataset(val_tup_ddi, ratio=1, disjoint_split=False)\n",
    "test_data_ddi = DrugDataset(test_tup_ddi, disjoint_split=False)\n",
    "\n",
    "train_data_loader_ddi = DrugDataLoader(train_data_ddi, batch_size=batch_size, shuffle=True)\n",
    "val_data_loader_ddi = DrugDataLoader(val_data_ddi, batch_size=batch_size *3)\n",
    "test_data_loader_ddi = DrugDataLoader(test_data_ddi, batch_size=batch_size *3)"
   ]
  },
  {
   "cell_type": "code",
   "execution_count": 29,
   "metadata": {},
   "outputs": [],
   "source": [
    "def do_compute(model, batch, device, training=True):\n",
    "    '''\n",
    "        *batch: (pos_tri, neg_tri)\n",
    "        *pos/neg_tri: (batch_h, batch_t, batch_r)\n",
    "    '''\n",
    "    probas_pred, ground_truth = [], []\n",
    "    pos_tri, neg_tri = batch\n",
    "    \n",
    "    pos_tri = [tensor.to(device=device) for tensor in pos_tri]\n",
    "    p_score = model(pos_tri)\n",
    "    probas_pred.append(torch.sigmoid(p_score.detach()).cpu())\n",
    "    ground_truth.append(np.ones(len(p_score)))\n",
    "\n",
    "    neg_tri = [tensor.to(device=device) for tensor in neg_tri]\n",
    "    n_score = model(neg_tri)\n",
    "    probas_pred.append(torch.sigmoid(n_score.detach()).cpu())\n",
    "    ground_truth.append(np.zeros(len(n_score)))\n",
    "\n",
    "    probas_pred = np.concatenate(probas_pred)\n",
    "    ground_truth = np.concatenate(ground_truth)\n",
    "\n",
    "    return p_score, n_score, probas_pred, ground_truth\n",
    "\n",
    "def do_compute_metrics(probas_pred, target):\n",
    "\n",
    "    pred = (probas_pred >= 0.5).astype(np.int32)\n",
    "\n",
    "    acc = metrics.accuracy_score(target, pred)\n",
    "    auc_roc = metrics.roc_auc_score(target, probas_pred)\n",
    "    f1_score = metrics.f1_score(target, pred)\n",
    "\n",
    "    p, r, t = metrics.precision_recall_curve(target, probas_pred)\n",
    "    auc_prc = metrics.auc(r, p)\n",
    "\n",
    "    return acc, auc_roc, auc_prc\n",
    "\n",
    "def train(model, train_data_loader, val_data_loader, loss_fn,  optimizer, n_epochs, device, \n",
    "          scheduler=None, starting_epoch=1):\n",
    "    print('Starting training at', datetime.today())\n",
    "    pbar = tqdm(range(starting_epoch, n_epochs+1))\n",
    "    for i in pbar:\n",
    "        start = time.time()\n",
    "        train_loss = 0\n",
    "        train_loss_pos = 0\n",
    "        train_loss_neg = 0\n",
    "        val_loss = 0\n",
    "        val_loss_pos = 0\n",
    "        val_loss_neg = 0\n",
    "        train_probas_pred = []\n",
    "        train_ground_truth = []\n",
    "        val_probas_pred = []\n",
    "        val_ground_truth = []\n",
    "\n",
    "        for batch in train_data_loader:\n",
    "            model.train()\n",
    "            p_score, n_score, probas_pred, ground_truth = do_compute(model, batch, device)\n",
    "            train_probas_pred.append(probas_pred)\n",
    "            train_ground_truth.append(ground_truth)\n",
    "            loss, loss_p, loss_n = loss_fn(p_score, n_score)\n",
    "            \n",
    "            optimizer.zero_grad()\n",
    "            loss.backward()\n",
    "            optimizer.step()\n",
    "\n",
    "            train_loss += loss.item() * len(p_score)\n",
    "        train_loss /= len(train_data_ddi)\n",
    "\n",
    "        with torch.no_grad():\n",
    "            train_probas_pred = np.concatenate(train_probas_pred)\n",
    "            train_ground_truth = np.concatenate(train_ground_truth)\n",
    "\n",
    "            train_acc, train_auc_roc, train_auc_prc = do_compute_metrics(train_probas_pred, train_ground_truth)\n",
    "\n",
    "            for batch in val_data_loader:\n",
    "                model.eval()\n",
    "                p_score, n_score, probas_pred, ground_truth = do_compute(model, batch, device)\n",
    "                val_probas_pred.append(probas_pred)\n",
    "                val_ground_truth.append(ground_truth)\n",
    "                loss, loss_p, loss_n = loss_fn(p_score, n_score)\n",
    "                val_loss += loss.item() * len(p_score)            \n",
    "\n",
    "            val_loss /= len(val_data_ddi)\n",
    "            val_probas_pred = np.concatenate(val_probas_pred)\n",
    "            val_ground_truth = np.concatenate(val_ground_truth)\n",
    "            val_acc, val_auc_roc, val_auc_prc = do_compute_metrics(val_probas_pred, val_ground_truth)\n",
    "               \n",
    "        if scheduler:\n",
    "            # print('scheduling')\n",
    "            scheduler.step()\n",
    "\n",
    "\n",
    "        pbar.set_description(f'tr_loss: {train_loss:.4f}, val_loss: {val_loss:.4f},'\n",
    "                   f' tr_acc: {train_acc:.4f}, val_acc: {val_acc:.4f},'\n",
    "                   f' tr_roc: {train_auc_roc:.4f}, val_roc: {val_auc_roc:.4f},'\n",
    "                   f' tr_aupr: {train_auc_prc:.4f}, val_aupr: {val_auc_prc:.4f}' )\n",
    "\n",
    "        if i % 10 == 0 or i == n_epochs:  \n",
    "            save_checkpoint({\n",
    "                'epoch': i,\n",
    "                'model_state_dict': model.state_dict(),\n",
    "                'optimizer_state_dict': optimizer.state_dict(),\n",
    "                'scheduler_state_dict': scheduler.state_dict() if scheduler else None, \n",
    "                'metrics': {'train_loss' : train_loss,\n",
    "                           'val_loss' : val_loss,\n",
    "                           'train_acc' : train_acc,\n",
    "                           'val_acc' : val_acc,\n",
    "                           'train_auc_roc' : train_auc_roc,\n",
    "                           'val_auc_roc' : val_auc_roc,\n",
    "                           'train_auprc' : train_auc_prc,\n",
    "                           'val_auprc' : val_auc_prc},\n",
    "            }, filename=f\"ddi_e{str(i).zfill(3)}.pth\")\n",
    "\n",
    "\n",
    "class SigmoidLoss(nn.Module):\n",
    "    def __init__(self, adv_temperature=None):\n",
    "        super().__init__()\n",
    "        self.adv_temperature = adv_temperature\n",
    "    \n",
    "    def forward(self, p_scores, n_scores):\n",
    "        if self.adv_temperature:\n",
    "            weights= F.softmax(self.adv_temperature * n_scores, dim=-1).detach()\n",
    "            n_scores = weights * n_scores\n",
    "        p_loss = - F.logsigmoid(p_scores).mean()\n",
    "        n_loss = - F.logsigmoid(-n_scores).mean()\n",
    "        \n",
    "        return (p_loss + n_loss) / 2, p_loss, n_loss "
   ]
  },
  {
   "cell_type": "code",
   "execution_count": null,
   "metadata": {},
   "outputs": [
    {
     "name": "stdout",
     "output_type": "stream",
     "text": [
      "No checkpoint found, starting training from scratch.\n",
      "Starting training at 2024-04-12 03:47:42.278611\n"
     ]
    },
    {
     "data": {
      "application/vnd.jupyter.widget-view+json": {
       "model_id": "a2cfc6afe34345c6bf7d6cf9ce7b053f",
       "version_major": 2,
       "version_minor": 0
      },
      "text/plain": [
       "  0%|          | 0/300 [00:00<?, ?it/s]"
      ]
     },
     "metadata": {},
     "output_type": "display_data"
    }
   ],
   "source": [
    "from torch_geometric.nn import GATConv, global_mean_pool, LayerNorm\n",
    "import torch.nn.functional as F\n",
    "\n",
    "\n",
    "class DDIGAT(torch.nn.Module):\n",
    "    def __init__(self):\n",
    "        super().__init__()\n",
    "        self.num_iterations = 86\n",
    "        self.num_features = 55\n",
    "        self.num_heads = 2\n",
    "        self.initial_norm = LayerNorm(self.num_features)\n",
    "        self.convA = GATConv(self.num_features, 256, heads=self.num_heads)\n",
    "        self.convB = GATConv(self.num_features, 256, heads=self.num_heads)\n",
    "        self.emb = torch.nn.Embedding(self.num_iterations, 256)\n",
    "        self.lin = torch.nn.Linear((2 * self.num_heads + 1)* 256, 1)\n",
    "\n",
    "    def forward(self, tri):\n",
    "        # (pos_h_samples, pos_t_samples, pos_rels)\n",
    "        head, tail, rel = tri\n",
    "        head.x = self.initial_norm(head.x, head.batch)\n",
    "        tail.x = self.initial_norm(tail.x, tail.batch)\n",
    "        head = F.elu(self.convA(head.x, head.edge_index))\n",
    "        tail = F.elu(self.convB(tail.x, tail.edge_index))\n",
    "        head_emb = global_mean_pool(head, tri[0].batch)\n",
    "        tail_emb = global_mean_pool(tail, tri[1].batch)\n",
    "        rel = self.emb(rel)\n",
    "        out = self.lin(torch.cat([head_emb, tail_emb, rel],dim=-1))\n",
    "        return out\n",
    "\n",
    "model = DDIGAT()\n",
    "loss_func = SigmoidLoss()\n",
    "optimizer = optim.Adam(model.parameters(), lr=lr, weight_decay=weight_decay)\n",
    "scheduler = optim.lr_scheduler.LambdaLR(optimizer, lambda epoch: 0.96 ** (epoch))\n",
    "\n",
    "device = 'cuda' if torch.cuda.is_available() else 'cpu'\n",
    "model.to(device)\n",
    "\n",
    "last_checkpoint = find_last_checkpoint_by_epoch('ckpt')\n",
    "\n",
    "if last_checkpoint:\n",
    "    last_epoch, last_loss = load_checkpoint(model, optimizer, scheduler, last_checkpoint)\n",
    "    print(f\"Resuming training from epoch {last_epoch + 1}\")\n",
    "    train(model, train_data_loader_ddi, val_data_loader_ddi, SigmoidLoss(), optimizer, n_epochs, device, scheduler, starting_epoch=last_epoch + 1)\n",
    "else:\n",
    "    print(\"No checkpoint found, starting training from scratch.\")\n",
    "    train(model, train_data_loader_ddi, val_data_loader_ddi, loss_func, optimizer, n_epochs, device, scheduler)"
   ]
  },
  {
   "cell_type": "markdown",
   "metadata": {},
   "source": [
    "## Task 2: Training GAT for Protein-protein Interaction"
   ]
  },
  {
   "cell_type": "code",
   "execution_count": 7,
   "metadata": {},
   "outputs": [],
   "source": [
    "from torch_geometric.nn import GATConv\n",
    "import torch.nn.functional as F\n",
    "\n",
    "train_loader_ppi = DataLoader(train_dataset_ppi, batch_size=1, shuffle=True)\n",
    "val_loader_ppi = DataLoader(val_dataset_ppi, batch_size=2, shuffle=False)\n",
    "test_loader_ppi = DataLoader(test_dataset_ppi, batch_size=2, shuffle=False)\n",
    "\n",
    "class PPINet(torch.nn.Module):\n",
    "    def __init__(self):\n",
    "        super().__init__()\n",
    "        self.conv1 = GATConv(train_dataset_ppi.num_features, 256, heads=4)\n",
    "        self.lin1 = torch.nn.Linear(train_dataset_ppi.num_features, 4 * 256)\n",
    "        self.conv2 = GATConv(4 * 256, 256, heads=4)\n",
    "        self.lin2 = torch.nn.Linear(4 * 256, 4 * 256)\n",
    "        self.conv3 = GATConv(4 * 256, train_dataset_ppi.num_classes, heads=6,\n",
    "                             concat=False)\n",
    "        self.lin3 = torch.nn.Linear(4 * 256, train_dataset_ppi.num_classes)\n",
    "\n",
    "    def forward(self, x, edge_index):\n",
    "        x = F.elu(self.conv1(x, edge_index) + self.lin1(x))\n",
    "        x = F.elu(self.conv2(x, edge_index) + self.lin2(x))\n",
    "        x = self.conv3(x, edge_index) + self.lin3(x)\n",
    "        return x"
   ]
  },
  {
   "cell_type": "code",
   "execution_count": 8,
   "metadata": {},
   "outputs": [],
   "source": [
    "device = torch.device('cuda' if torch.cuda.is_available() else 'cpu')\n",
    "model = PPINet().to(device)\n",
    "loss_op = torch.nn.BCEWithLogitsLoss()\n",
    "optimizer = torch.optim.Adam(model.parameters(), lr=0.005)\n",
    "\n",
    "from sklearn.metrics import f1_score\n",
    "\n",
    "\n",
    "def train():\n",
    "    model.train()\n",
    "\n",
    "    total_loss = 0\n",
    "    for data in train_loader_ppi:\n",
    "        data = data.to(device)\n",
    "        optimizer.zero_grad()\n",
    "        loss = loss_op(model(data.x, data.edge_index), data.y)\n",
    "        total_loss += loss.item() * data.num_graphs\n",
    "        loss.backward()\n",
    "        optimizer.step()\n",
    "\n",
    "    return total_loss / len(train_loader_ppi.dataset)\n",
    "\n",
    "\n",
    "@torch.no_grad()\n",
    "def test(loader):\n",
    "    model.eval()\n",
    "\n",
    "    ys, preds = [], []\n",
    "    for data in loader:\n",
    "        ys.append(data.y)\n",
    "        out = model(data.x.to(device), data.edge_index.to(device))\n",
    "        preds.append((out > 0).float().cpu())\n",
    "\n",
    "    y, pred = torch.cat(ys, dim=0).numpy(), torch.cat(preds, dim=0).numpy()\n",
    "    return f1_score(y, pred, average='micro') if pred.sum() > 0 else 0\n",
    "\n"
   ]
  },
  {
   "cell_type": "code",
   "execution_count": 14,
   "metadata": {},
   "outputs": [
    {
     "data": {
      "application/vnd.jupyter.widget-view+json": {
       "model_id": "57b0a0780389414985af163ea9a16ee2",
       "version_major": 2,
       "version_minor": 0
      },
      "text/plain": [
       "  0%|          | 0/100 [00:00<?, ?it/s]"
      ]
     },
     "metadata": {},
     "output_type": "display_data"
    },
    {
     "name": "stdout",
     "output_type": "stream",
     "text": [
      "Median time per epoch: 1.8779s\n"
     ]
    }
   ],
   "source": [
    "# import time\n",
    "\n",
    "# times = []\n",
    "# pbar = tqdm(range(1, 101))\n",
    "# for epoch in pbar:\n",
    "#     start = time.time()\n",
    "#     loss = train()\n",
    "#     val_f1 = test(val_loader_ppi)\n",
    "#     test_f1 = test(test_loader_ppi)\n",
    "#     if epoch % 10 == 0 or epoch == 100:  \n",
    "#         save_checkpoint({\n",
    "#             'epoch': epoch,\n",
    "#             'model_state_dict': model.state_dict(),\n",
    "#             'optimizer_state_dict': optimizer.state_dict(),\n",
    "#             'metrics': {'train_loss' : loss,\n",
    "#                        'val_f1' : val_f1,\n",
    "#                        'test_f1' : test_f1},\n",
    "#         }, filename=f\"ppi_e{str(epoch).zfill(3)}.pth\")\n",
    "\n",
    "#     pbar.set_description(f'tr_loss: {loss:.4f}, val_f1: {val_f1:.4f}, test_f1: {test_f1:.4f}')\n",
    "#     times.append(time.time() - start)\n",
    "# print(f\"Median time per epoch: {torch.tensor(times).median():.4f}s\")"
   ]
  },
  {
   "cell_type": "markdown",
   "metadata": {},
   "source": [
    "## Task 3: Training GAT for Link Prediction for PubMed Citation Network"
   ]
  },
  {
   "cell_type": "code",
   "execution_count": 19,
   "metadata": {},
   "outputs": [],
   "source": [
    "from torch_geometric.utils import negative_sampling\n",
    "from torch_geometric.nn import GATv2Conv, GCNConv\n",
    "\n",
    "class GCNNet(torch.nn.Module):\n",
    "    def __init__(self, in_channels, hidden_channels, out_channels):\n",
    "        super().__init__()\n",
    "        self.conv1 = GCNConv(in_channels, hidden_channels)\n",
    "        self.conv2 = GCNConv(hidden_channels, out_channels)\n",
    "\n",
    "    def encode(self, x, edge_index):\n",
    "        x = self.conv1(x, edge_index).relu()\n",
    "        return self.conv2(x, edge_index)\n",
    "\n",
    "    def decode(self, z, edge_label_index):\n",
    "        return (z[edge_label_index[0]] * z[edge_label_index[1]]).sum(dim=-1)\n",
    "\n",
    "    def decode_all(self, z):\n",
    "        prob_adj = z @ z.t()\n",
    "        return (prob_adj > 0).nonzero(as_tuple=False).t()\n",
    "\n",
    "class GATv2Net(torch.nn.Module):\n",
    "    def __init__(self, in_channels, hidden_channels, out_channels, num_heads):\n",
    "        super().__init__()\n",
    "        self.conv1 = GATv2Conv(in_channels, hidden_channels, heads=num_heads, concat=False)\n",
    "        self.conv2 = GATv2Conv(hidden_channels, out_channels, heads=num_heads, concat=False)\n",
    "    \n",
    "    def encode(self, x, edge_index):\n",
    "        x = self.conv1(x, edge_index).relu()\n",
    "        return self.conv2(x, edge_index)\n",
    "\n",
    "    def decode(self, z, edge_label_index):\n",
    "        return (z[edge_label_index[0]] * z[edge_label_index[1]]).sum(dim=-1)\n",
    "\n",
    "    def decode_all(self, z):\n",
    "        prob_adj = z @ z.t()\n",
    "        return (prob_adj > 0).nonzero(as_tuple=False).t()\n",
    "    \n",
    "\n",
    "class GATv1Net(torch.nn.Module):\n",
    "    def __init__(self, in_channels, hidden_channels, out_channels, num_heads):\n",
    "        super().__init__()\n",
    "        self.conv1 = GATConv(in_channels, hidden_channels, heads=num_heads, concat=False)\n",
    "        self.conv2 = GATConv(hidden_channels, out_channels, heads=num_heads, concat=False)\n",
    "\n",
    "    def encode(self, x, edge_index):\n",
    "        x = self.conv1(x, edge_index).relu()\n",
    "        return self.conv2(x, edge_index)\n",
    "\n",
    "    def decode(self, z, edge_label_index):\n",
    "        return (z[edge_label_index[0]] * z[edge_label_index[1]]).sum(dim=-1)\n",
    "\n",
    "    def decode_all(self, z):\n",
    "        prob_adj = z @ z.t()\n",
    "        return (prob_adj > 0).nonzero(as_tuple=False).t()\n",
    "   \n"
   ]
  },
  {
   "cell_type": "code",
   "execution_count": 20,
   "metadata": {
    "scrolled": true
   },
   "outputs": [],
   "source": [
    "from sklearn.metrics import roc_auc_score\n",
    "\n",
    "optimizer = torch.optim.Adam(params=model.parameters(), lr=0.01)\n",
    "criterion = torch.nn.BCEWithLogitsLoss()\n",
    "\n",
    "def train():\n",
    "    model.train()\n",
    "    optimizer.zero_grad()\n",
    "    z = model.encode(train_data_pubmed.x, train_data_pubmed.edge_index)\n",
    "\n",
    "    # We perform a new round of negative sampling for every training epoch:\n",
    "    neg_edge_index = negative_sampling(\n",
    "        edge_index=train_data_pubmed.edge_index, num_nodes=train_data_pubmed.num_nodes,\n",
    "        num_neg_samples=train_data_pubmed.edge_label_index.size(1), method='sparse')\n",
    "\n",
    "    edge_label_index = torch.cat(\n",
    "        [train_data_pubmed.edge_label_index, neg_edge_index],\n",
    "        dim=-1,\n",
    "    )\n",
    "    edge_label = torch.cat([\n",
    "        train_data_pubmed.edge_label,\n",
    "        train_data_pubmed.edge_label.new_zeros(neg_edge_index.size(1))\n",
    "    ], dim=0)\n",
    "\n",
    "    out = model.decode(z, edge_label_index).view(-1)\n",
    "    loss = criterion(out, edge_label)\n",
    "    loss.backward()\n",
    "    optimizer.step()\n",
    "    return loss\n",
    "\n",
    "\n",
    "@torch.no_grad()\n",
    "def test(data):\n",
    "    model.eval()\n",
    "    z = model.encode(data.x, data.edge_index)\n",
    "    out = model.decode(z, data.edge_label_index).view(-1).sigmoid()\n",
    "    return roc_auc_score(data.edge_label.cpu().numpy(), out.cpu().numpy())\n"
   ]
  },
  {
   "cell_type": "code",
   "execution_count": 22,
   "metadata": {},
   "outputs": [
    {
     "name": "stdout",
     "output_type": "stream",
     "text": [
      "GCN\n"
     ]
    },
    {
     "data": {
      "application/vnd.jupyter.widget-view+json": {
       "model_id": "4448ca586fcf4454acec4b55d0cd2200",
       "version_major": 2,
       "version_minor": 0
      },
      "text/plain": [
       "  0%|          | 0/100 [00:00<?, ?it/s]"
      ]
     },
     "metadata": {},
     "output_type": "display_data"
    },
    {
     "name": "stdout",
     "output_type": "stream",
     "text": [
      "GCN Final Test: 0.9492\n",
      "GAT\n"
     ]
    },
    {
     "data": {
      "application/vnd.jupyter.widget-view+json": {
       "model_id": "d689a541347a457cacab194506b733b7",
       "version_major": 2,
       "version_minor": 0
      },
      "text/plain": [
       "  0%|          | 0/100 [00:00<?, ?it/s]"
      ]
     },
     "metadata": {},
     "output_type": "display_data"
    },
    {
     "name": "stdout",
     "output_type": "stream",
     "text": [
      "GAT Final Test: 0.8959\n",
      "GAT-multi\n"
     ]
    },
    {
     "data": {
      "application/vnd.jupyter.widget-view+json": {
       "model_id": "08ad267dce0146c4b9754e1a39252a34",
       "version_major": 2,
       "version_minor": 0
      },
      "text/plain": [
       "  0%|          | 0/100 [00:00<?, ?it/s]"
      ]
     },
     "metadata": {},
     "output_type": "display_data"
    },
    {
     "name": "stdout",
     "output_type": "stream",
     "text": [
      "GAT-multi Final Test: 0.7966\n",
      "GATv2\n"
     ]
    },
    {
     "data": {
      "application/vnd.jupyter.widget-view+json": {
       "model_id": "461ddd91d4164b6ea4a29dbf51078a34",
       "version_major": 2,
       "version_minor": 0
      },
      "text/plain": [
       "  0%|          | 0/100 [00:00<?, ?it/s]"
      ]
     },
     "metadata": {},
     "output_type": "display_data"
    },
    {
     "name": "stdout",
     "output_type": "stream",
     "text": [
      "GATv2 Final Test: 0.8736\n",
      "GATv2-multi\n"
     ]
    },
    {
     "data": {
      "application/vnd.jupyter.widget-view+json": {
       "model_id": "3780eb189f6745bcbe350266be296d9e",
       "version_major": 2,
       "version_minor": 0
      },
      "text/plain": [
       "  0%|          | 0/100 [00:00<?, ?it/s]"
      ]
     },
     "metadata": {},
     "output_type": "display_data"
    },
    {
     "name": "stdout",
     "output_type": "stream",
     "text": [
      "GATv2-multi Final Test: 0.7941\n"
     ]
    }
   ],
   "source": [
    "for model_name in ['GCN','GAT','GAT-multi','GATv2','GATv2-multi']:\n",
    "    print(model_name)\n",
    "    \n",
    "    if model_name == 'GCN':\n",
    "        model = GCNNet(train_data_pubmed.num_features, 128, 64).to(device)\n",
    "    elif model_name == 'GAT':\n",
    "        model = GATv1Net(train_data_pubmed.num_features, 128, 64, 1).to(device)\n",
    "    elif model_name == 'GAT-multi':\n",
    "        model = GATv1Net(train_data_pubmed.num_features, 128, 64, 4).to(device)\n",
    "    elif model_name == 'GATv2':\n",
    "        model = GATv2Net(train_data_pubmed.num_features, 128, 64, 1).to(device)\n",
    "    elif model_name == 'GATv2-multi':\n",
    "        model = GATv2Net(train_data_pubmed.num_features, 128, 64, 4).to(device)\n",
    "\n",
    "    \n",
    "    best_val_auc = final_test_auc = 0\n",
    "    pbar = tqdm(range(1, 101))\n",
    "    for epoch in pbar:\n",
    "        loss = train()\n",
    "        val_auc = test(val_data_pubmed)\n",
    "        test_auc = test(test_data_pubmed)\n",
    "        if val_auc > best_val_auc:\n",
    "            best_val_auc = val_auc\n",
    "            final_test_auc = test_auc\n",
    "            save_checkpoint({\n",
    "                'epoch': epoch,\n",
    "                'model_state_dict': model.state_dict(),\n",
    "                'optimizer_state_dict': optimizer.state_dict(),\n",
    "                'metrics': {'train_loss' : loss,\n",
    "                           'val_auc' : val_auc,\n",
    "                           'test_auc' : test_auc},\n",
    "            }, filename=f\"PubMed_{model_name}_best.pth\")\n",
    "        if epoch % 10 == 0 or epoch == 100:  \n",
    "            save_checkpoint({\n",
    "                'epoch': epoch,\n",
    "                'model_state_dict': model.state_dict(),\n",
    "                'optimizer_state_dict': optimizer.state_dict(),\n",
    "                'metrics': {'train_loss' : loss,\n",
    "                           'val_auc' : val_auc,\n",
    "                           'test_auc' : test_auc},\n",
    "            }, filename=f\"PubMed_{model_name}_e{str(epoch).zfill(3)}.pth\")\n",
    "        pbar.set_description(f'tr_loss: {loss:.4f}, val_auc: {val_auc:.4f}, test_auc: {test_auc:.4f}')\n",
    "    \n",
    "    print(f'{model_name} Final Test: {final_test_auc:.4f}')"
   ]
  },
  {
   "cell_type": "markdown",
   "metadata": {
    "id": "gX6bCcZNuxmz"
   },
   "source": [
    "# 3.3 Results\n",
    "In this section, you should finish training your model training or loading your trained model. That is a great experiment! You should share the results with others with necessary metrics and figures.\n",
    "\n",
    "Please test and report results for all experiments that you run with:\n",
    "\n",
    "*   specific numbers (accuracy, AUC, RMSE, etc)\n",
    "*   figures (loss shrinkage, outputs from GAN, annotation or label of sample pictures, etc)\n"
   ]
  },
  {
   "cell_type": "markdown",
   "metadata": {},
   "source": [
    "### Task 1: Drug-drug Interaction\n",
    "|Model|Accuracy|AUROC|F1|Precision|Recall|\n",
    "|--|--|--|--|--|--|\n",
    "|GAT| | | | | |\n"
   ]
  },
  {
   "cell_type": "markdown",
   "metadata": {},
   "source": [
    "### Task 2: Protein-protein Interaction\n",
    "|Model|Accuracy|AUROC|F1|Precision|Recall|\n",
    "|--|--|--|--|--|--|\n",
    "|GAT| | | | | |"
   ]
  },
  {
   "cell_type": "markdown",
   "metadata": {},
   "source": [
    "### Task 3: Link Prediciton\n",
    "|Model|Accuracy|AUROC|F1|Precision|Recall|\n",
    "|--|--|--|--|--|--|\n",
    "|GAT (single-head)| | 0.8959| | | |\n",
    "|GAT (multi-head)| | 0.7966| | | |\n",
    "|GATv2 (single-head)| |0.7941 | | | |\n",
    "|GATv2 (multi-head)| | 0.8736| | | |\n",
    "|GCN| | 0.9492| | | |\n"
   ]
  },
  {
   "cell_type": "markdown",
   "metadata": {},
   "source": [
    "#### 3.3.1 Analysis\n",
    "From the results for link prediction, GCN shows the best performance. GAT (multi-head) is better than GAT (single head). GATv2 is worse than GAT. Although all of the above results are beyond our expectation, they does obey the \"No free lunch\" rule. "
   ]
  },
  {
   "cell_type": "code",
   "execution_count": null,
   "metadata": {
    "id": "LjW9bCkouv8O"
   },
   "outputs": [],
   "source": [
    "# metrics to evaluate my model\n",
    "\n",
    "# plot figures to better show the results\n",
    "\n",
    "# it is better to save the numbers and figures for your presentation."
   ]
  },
  {
   "cell_type": "markdown",
   "metadata": {
    "id": "8EAWAy_LwHlV"
   },
   "source": [
    "## 3.4 Model comparison"
   ]
  },
  {
   "cell_type": "code",
   "execution_count": null,
   "metadata": {
    "id": "uOdhGrbwwG71"
   },
   "outputs": [],
   "source": [
    "# compare you model with others\n",
    "# you don't need to re-run all other experiments, instead, you can directly refer the metrics/numbers in the paper"
   ]
  },
  {
   "cell_type": "markdown",
   "metadata": {},
   "source": [
    "# 4 Plan\n",
    "* Before April 25th, finish all the experiments and figures, as well as the analysis."
   ]
  },
  {
   "cell_type": "markdown",
   "metadata": {
    "id": "qH75TNU71eRH",
    "jp-MarkdownHeadingCollapsed": true
   },
   "source": [
    "# 4 Discussion\n",
    "\n",
    "In this section,you should discuss your work and make future plan. The discussion should address the following questions:\n",
    "  * Make assessment that the paper is reproducible or not.\n",
    "  * Explain why it is not reproducible if your results are kind negative.\n",
    "  * Describe “What was easy” and “What was difficult” during the reproduction.\n",
    "  * Make suggestions to the author or other reproducers on how to improve the reproducibility.\n",
    "  * What will you do in next phase.\n",
    "\n"
   ]
  },
  {
   "cell_type": "code",
   "execution_count": null,
   "metadata": {
    "id": "E2VDXo5F4Frm"
   },
   "outputs": [],
   "source": [
    "# no code is required for this section\n",
    "'''\n",
    "if you want to use an image outside this notebook for explanaition,\n",
    "you can read and plot it here like the Scope of Reproducibility\n",
    "'''"
   ]
  },
  {
   "cell_type": "markdown",
   "metadata": {
    "id": "SHMI2chl9omn"
   },
   "source": [
    "# References\n",
    "\n",
    "Shaked Brody, Uri Alon, and Eran Yahav. How attentive are graph attention networks? In The Tenth\n",
    "International Conference on Learning Representations, ICLR 2022, Virtual Event, April 25-29,\n",
    "2022. OpenReview.net, 2022. URL https://openreview.net/forum?id=F72ximsx7C1\n",
    "\n",
    "Lin, J., Wu, L., Zhu, J., Liang, X., Xia, Y., Xie, S., ... & Liu, T. Y. (2023). R2-DDI: relation-aware feature refinement for drug–drug interaction prediction. Briefings in Bioinformatics, 24(1), bbac576.\n",
    "\n",
    "Petar Velickovic, Guillem Cucurull, Arantxa Casanova, Adriana Romero, Pietro Liò, and Yoshua\n",
    "Bengio. Graph attention networks. In 6th International Conference on Learning Representations,\n",
    "ICLR 2018, Vancouver, BC, Canada, April 30 - May 3, 2018, Conference Track Proceedings.\n",
    "OpenReview.net, 2018. URL https://openreview.net/forum?id=rJXMpikCZ.\n",
    "\n"
   ]
  },
  {
   "cell_type": "markdown",
   "metadata": {},
   "source": []
  }
 ],
 "metadata": {
  "colab": {
   "private_outputs": true,
   "provenance": [
    {
     "file_id": "1oAKqszNlwEZwPa_BjHPqfcoWlikYBpi5",
     "timestamp": 1709153069464
    }
   ],
   "toc_visible": true
  },
  "kernelspec": {
   "display_name": "gat",
   "language": "python",
   "name": "python3"
  },
  "language_info": {
   "codemirror_mode": {
    "name": "ipython",
    "version": 3
   },
   "file_extension": ".py",
   "mimetype": "text/x-python",
   "name": "python",
   "nbconvert_exporter": "python",
   "pygments_lexer": "ipython3",
   "version": "3.8.19"
  }
 },
 "nbformat": 4,
 "nbformat_minor": 4
}
